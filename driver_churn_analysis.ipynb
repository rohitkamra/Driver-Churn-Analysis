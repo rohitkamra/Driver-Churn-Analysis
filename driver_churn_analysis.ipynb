{
 "cells": [
  {
   "cell_type": "markdown",
   "id": "684cface-ce42-4516-861d-a28f6f161c1e",
   "metadata": {},
   "source": [
    "### Problem Statement\n",
    "\n",
    "Recruiting and retaining drivers is seen by industry watchers as a tough battle for Ola. Churn among drivers is high and it’s very easy for drivers to stop working for the service on the fly or jump to Uber depending on the rates.\n",
    "\n",
    "As the companies get bigger, the high churn could become a bigger problem. To find new drivers, Ola is casting a wide net, including people who don’t have cars for jobs. But this acquisition is really costly. Losing drivers frequently impacts the morale of the organization and acquiring new drivers is more expensive than retaining existing ones.\n",
    "\n",
    "You are working as a data scientist with the Analytics Department of Ola, focused on driver team attrition. You are provided with the monthly information for a segment of drivers for 2019 and 2020 and tasked to predict whether a driver will be leaving the company or not based on their attributes like\n",
    "\n",
    "Demographics (city, age, gender etc.)\n",
    "Tenure information (joining date, Last Date)\n",
    "Historical data regarding the performance of the driver (Quarterly rating, Monthly business acquired, grade, Income)"
   ]
  },
  {
   "cell_type": "code",
   "execution_count": 382,
   "id": "4be33124-a3b7-44ba-9e73-c5f14b02b23e",
   "metadata": {},
   "outputs": [],
   "source": [
    "import pandas as pd\n",
    "import numpy as np\n",
    "import matplotlib.pyplot as plt\n",
    "import seaborn as sns\n",
    "import warnings\n",
    "import statsmodels.api as sm\n",
    "import sklearn\n",
    "\n",
    "pd.set_option('display.max_columns', None)\n",
    "warnings.filterwarnings('ignore')\n",
    "from matplotlib import rcParams\n",
    "rcParams['figure.figsize'] = 15,5\n",
    "\n",
    "# from sklearn import set_config\n",
    "# set_config(transform_output=\"pandas\")"
   ]
  },
  {
   "cell_type": "code",
   "execution_count": 383,
   "id": "2eee0a10-7dc2-42d3-b983-97ef6e0de200",
   "metadata": {},
   "outputs": [],
   "source": [
    "from sklearn.ensemble import RandomForestClassifier\n",
    "from sklearn.model_selection import GridSearchCV, train_test_split, cross_validate\n",
    "from sklearn.metrics import precision_score, recall_score, f1_score, accuracy_score, roc_auc_score, roc_curve, precision_recall_curve\n",
    "from sklearn.metrics import classification_report, confusion_matrix, ConfusionMatrixDisplay\n",
    "from statsmodels.stats.outliers_influence import variance_inflation_factor\n",
    "from sklearn.impute import KNNImputer\n",
    "from sklearn.ensemble import GradientBoostingClassifier\n",
    "from sklearn.preprocessing import StandardScaler"
   ]
  },
  {
   "cell_type": "code",
   "execution_count": 384,
   "id": "a03d2ae0-ac49-4506-9338-fbb5b5debeb2",
   "metadata": {},
   "outputs": [
    {
     "name": "stdout",
     "output_type": "stream",
     "text": [
      "Shape (19104, 14)\n"
     ]
    }
   ],
   "source": [
    "df = pd.read_csv('ola_driver.csv')\n",
    "print('Shape',df.shape)"
   ]
  },
  {
   "cell_type": "code",
   "execution_count": 385,
   "id": "ad5a03ac-2ec6-4f8f-b4eb-8938ea4962fc",
   "metadata": {},
   "outputs": [
    {
     "data": {
      "text/html": [
       "<div>\n",
       "<style scoped>\n",
       "    .dataframe tbody tr th:only-of-type {\n",
       "        vertical-align: middle;\n",
       "    }\n",
       "\n",
       "    .dataframe tbody tr th {\n",
       "        vertical-align: top;\n",
       "    }\n",
       "\n",
       "    .dataframe thead th {\n",
       "        text-align: right;\n",
       "    }\n",
       "</style>\n",
       "<table border=\"1\" class=\"dataframe\">\n",
       "  <thead>\n",
       "    <tr style=\"text-align: right;\">\n",
       "      <th></th>\n",
       "      <th>Unnamed: 0</th>\n",
       "      <th>MMM-YY</th>\n",
       "      <th>Driver_ID</th>\n",
       "      <th>Age</th>\n",
       "      <th>Gender</th>\n",
       "      <th>City</th>\n",
       "      <th>Education_Level</th>\n",
       "      <th>Income</th>\n",
       "      <th>Dateofjoining</th>\n",
       "      <th>LastWorkingDate</th>\n",
       "      <th>Joining Designation</th>\n",
       "      <th>Grade</th>\n",
       "      <th>Total Business Value</th>\n",
       "      <th>Quarterly Rating</th>\n",
       "    </tr>\n",
       "  </thead>\n",
       "  <tbody>\n",
       "    <tr>\n",
       "      <th>0</th>\n",
       "      <td>0</td>\n",
       "      <td>01/01/19</td>\n",
       "      <td>1</td>\n",
       "      <td>28.0</td>\n",
       "      <td>0.0</td>\n",
       "      <td>C23</td>\n",
       "      <td>2</td>\n",
       "      <td>57387</td>\n",
       "      <td>24/12/18</td>\n",
       "      <td>NaN</td>\n",
       "      <td>1</td>\n",
       "      <td>1</td>\n",
       "      <td>2381060</td>\n",
       "      <td>2</td>\n",
       "    </tr>\n",
       "    <tr>\n",
       "      <th>1</th>\n",
       "      <td>1</td>\n",
       "      <td>02/01/19</td>\n",
       "      <td>1</td>\n",
       "      <td>28.0</td>\n",
       "      <td>0.0</td>\n",
       "      <td>C23</td>\n",
       "      <td>2</td>\n",
       "      <td>57387</td>\n",
       "      <td>24/12/18</td>\n",
       "      <td>NaN</td>\n",
       "      <td>1</td>\n",
       "      <td>1</td>\n",
       "      <td>-665480</td>\n",
       "      <td>2</td>\n",
       "    </tr>\n",
       "    <tr>\n",
       "      <th>2</th>\n",
       "      <td>2</td>\n",
       "      <td>03/01/19</td>\n",
       "      <td>1</td>\n",
       "      <td>28.0</td>\n",
       "      <td>0.0</td>\n",
       "      <td>C23</td>\n",
       "      <td>2</td>\n",
       "      <td>57387</td>\n",
       "      <td>24/12/18</td>\n",
       "      <td>03/11/19</td>\n",
       "      <td>1</td>\n",
       "      <td>1</td>\n",
       "      <td>0</td>\n",
       "      <td>2</td>\n",
       "    </tr>\n",
       "    <tr>\n",
       "      <th>3</th>\n",
       "      <td>3</td>\n",
       "      <td>11/01/20</td>\n",
       "      <td>2</td>\n",
       "      <td>31.0</td>\n",
       "      <td>0.0</td>\n",
       "      <td>C7</td>\n",
       "      <td>2</td>\n",
       "      <td>67016</td>\n",
       "      <td>11/06/20</td>\n",
       "      <td>NaN</td>\n",
       "      <td>2</td>\n",
       "      <td>2</td>\n",
       "      <td>0</td>\n",
       "      <td>1</td>\n",
       "    </tr>\n",
       "    <tr>\n",
       "      <th>4</th>\n",
       "      <td>4</td>\n",
       "      <td>12/01/20</td>\n",
       "      <td>2</td>\n",
       "      <td>31.0</td>\n",
       "      <td>0.0</td>\n",
       "      <td>C7</td>\n",
       "      <td>2</td>\n",
       "      <td>67016</td>\n",
       "      <td>11/06/20</td>\n",
       "      <td>NaN</td>\n",
       "      <td>2</td>\n",
       "      <td>2</td>\n",
       "      <td>0</td>\n",
       "      <td>1</td>\n",
       "    </tr>\n",
       "  </tbody>\n",
       "</table>\n",
       "</div>"
      ],
      "text/plain": [
       "   Unnamed: 0    MMM-YY  Driver_ID   Age  Gender City  Education_Level  \\\n",
       "0           0  01/01/19          1  28.0     0.0  C23                2   \n",
       "1           1  02/01/19          1  28.0     0.0  C23                2   \n",
       "2           2  03/01/19          1  28.0     0.0  C23                2   \n",
       "3           3  11/01/20          2  31.0     0.0   C7                2   \n",
       "4           4  12/01/20          2  31.0     0.0   C7                2   \n",
       "\n",
       "   Income Dateofjoining LastWorkingDate  Joining Designation  Grade  \\\n",
       "0   57387      24/12/18             NaN                    1      1   \n",
       "1   57387      24/12/18             NaN                    1      1   \n",
       "2   57387      24/12/18        03/11/19                    1      1   \n",
       "3   67016      11/06/20             NaN                    2      2   \n",
       "4   67016      11/06/20             NaN                    2      2   \n",
       "\n",
       "   Total Business Value  Quarterly Rating  \n",
       "0               2381060                 2  \n",
       "1               -665480                 2  \n",
       "2                     0                 2  \n",
       "3                     0                 1  \n",
       "4                     0                 1  "
      ]
     },
     "execution_count": 385,
     "metadata": {},
     "output_type": "execute_result"
    }
   ],
   "source": [
    "df.head()"
   ]
  },
  {
   "cell_type": "code",
   "execution_count": 386,
   "id": "54a93cb6-c593-40bc-b6a3-5bdee419a28b",
   "metadata": {},
   "outputs": [],
   "source": [
    "df.drop('Unnamed: 0', axis=1, inplace=True)"
   ]
  },
  {
   "cell_type": "code",
   "execution_count": 387,
   "id": "f838a770-d913-4cf0-b060-21bd0ea3f499",
   "metadata": {},
   "outputs": [
    {
     "data": {
      "text/plain": [
       "MMM-YY                   object\n",
       "Driver_ID                 int64\n",
       "Age                     float64\n",
       "Gender                  float64\n",
       "City                     object\n",
       "Education_Level           int64\n",
       "Income                    int64\n",
       "Dateofjoining            object\n",
       "LastWorkingDate          object\n",
       "Joining Designation       int64\n",
       "Grade                     int64\n",
       "Total Business Value      int64\n",
       "Quarterly Rating          int64\n",
       "dtype: object"
      ]
     },
     "execution_count": 387,
     "metadata": {},
     "output_type": "execute_result"
    }
   ],
   "source": [
    "df.dtypes"
   ]
  },
  {
   "cell_type": "code",
   "execution_count": 388,
   "id": "179ecfaa-f149-432e-9569-4934e2f9464e",
   "metadata": {},
   "outputs": [
    {
     "data": {
      "text/plain": [
       "MMM-YY                   0.000000\n",
       "Driver_ID                0.000000\n",
       "Age                      0.319305\n",
       "Gender                   0.272194\n",
       "City                     0.000000\n",
       "Education_Level          0.000000\n",
       "Income                   0.000000\n",
       "Dateofjoining            0.000000\n",
       "LastWorkingDate         91.541039\n",
       "Joining Designation      0.000000\n",
       "Grade                    0.000000\n",
       "Total Business Value     0.000000\n",
       "Quarterly Rating         0.000000\n",
       "dtype: float64"
      ]
     },
     "execution_count": 388,
     "metadata": {},
     "output_type": "execute_result"
    }
   ],
   "source": [
    "#missing values\n",
    "(df.isna().sum()/df.shape[0])*100"
   ]
  },
  {
   "cell_type": "markdown",
   "id": "58722bb3-acc2-4933-8297-d3d6c11f945d",
   "metadata": {},
   "source": [
    "### Missing value - KNN imputer for Age and Gender columns"
   ]
  },
  {
   "cell_type": "code",
   "execution_count": 389,
   "id": "50a43a36-79e6-4568-96f6-e89d21c02503",
   "metadata": {},
   "outputs": [],
   "source": [
    "numeric_cols = df.select_dtypes(include='number').columns\n",
    "df_imp = df[numeric_cols]"
   ]
  },
  {
   "cell_type": "code",
   "execution_count": 390,
   "id": "1b73c5a4-71e5-4aaa-b387-b7e595080fd9",
   "metadata": {},
   "outputs": [],
   "source": [
    "knn_imp = KNNImputer(n_neighbors=3)"
   ]
  },
  {
   "cell_type": "code",
   "execution_count": 391,
   "id": "0dcc8290-6b71-4a58-94db-47e5e57cf8cd",
   "metadata": {},
   "outputs": [],
   "source": [
    "imp_arr = knn_imp.fit_transform(df_imp)"
   ]
  },
  {
   "cell_type": "code",
   "execution_count": 392,
   "id": "97be2f9f-bc66-4592-9ab3-6e82d09bc809",
   "metadata": {},
   "outputs": [],
   "source": [
    "df_imp = pd.DataFrame(imp_arr, columns=df_imp.columns)"
   ]
  },
  {
   "cell_type": "code",
   "execution_count": 393,
   "id": "b64c3fb7-5a1d-48e1-b61e-f2abde055f8b",
   "metadata": {},
   "outputs": [],
   "source": [
    "df['Age'] = df_imp['Age'].round()\n",
    "df['Gender'] = df_imp['Gender'].round()"
   ]
  },
  {
   "cell_type": "code",
   "execution_count": 394,
   "id": "ca2019d5-ae43-40b2-b451-6bfda95d4370",
   "metadata": {},
   "outputs": [
    {
     "data": {
      "text/plain": [
       "MMM-YY                   0.000000\n",
       "Driver_ID                0.000000\n",
       "Age                      0.000000\n",
       "Gender                   0.000000\n",
       "City                     0.000000\n",
       "Education_Level          0.000000\n",
       "Income                   0.000000\n",
       "Dateofjoining            0.000000\n",
       "LastWorkingDate         91.541039\n",
       "Joining Designation      0.000000\n",
       "Grade                    0.000000\n",
       "Total Business Value     0.000000\n",
       "Quarterly Rating         0.000000\n",
       "dtype: float64"
      ]
     },
     "execution_count": 394,
     "metadata": {},
     "output_type": "execute_result"
    }
   ],
   "source": [
    "#missing values\n",
    "(df.isna().sum()/df.shape[0])*100"
   ]
  },
  {
   "cell_type": "code",
   "execution_count": 395,
   "id": "a5a06f75-7cab-446b-8bf8-6fe1e7869c19",
   "metadata": {},
   "outputs": [
    {
     "data": {
      "text/plain": [
       "0.0    11100\n",
       "1.0     8004\n",
       "Name: Gender, dtype: int64"
      ]
     },
     "execution_count": 395,
     "metadata": {},
     "output_type": "execute_result"
    }
   ],
   "source": [
    "df['Gender'].value_counts()"
   ]
  },
  {
   "cell_type": "code",
   "execution_count": 396,
   "id": "0e0f8557-cd79-43ff-be31-34e8d34fec83",
   "metadata": {},
   "outputs": [],
   "source": [
    "#convert categorical columns to object dtype\n",
    "df['Gender'] = df['Gender'].astype('object')\n",
    "df['Education_Level'] = df['Education_Level'].astype('object')\n",
    "df['Joining Designation'] = df['Joining Designation'].astype('object')\n",
    "df['Grade'] = df['Grade'].astype('object')\n",
    "df['Quarterly Rating'] = df['Quarterly Rating'].astype('object')\n",
    "\n",
    "#convert date columns to date time dtype\n",
    "df['MMM-YY'] = pd.to_datetime(df['MMM-YY'])\n",
    "df['Dateofjoining'] = pd.to_datetime(df['Dateofjoining'])\n",
    "df['LastWorkingDate'] = pd.to_datetime(df['LastWorkingDate'])"
   ]
  },
  {
   "cell_type": "code",
   "execution_count": 397,
   "id": "5ff6510c-dd62-45d7-bcdf-1995cd6ceee5",
   "metadata": {},
   "outputs": [
    {
     "name": "stdout",
     "output_type": "stream",
     "text": [
      "<class 'pandas.core.frame.DataFrame'>\n",
      "RangeIndex: 19104 entries, 0 to 19103\n",
      "Data columns (total 13 columns):\n",
      " #   Column                Non-Null Count  Dtype         \n",
      "---  ------                --------------  -----         \n",
      " 0   MMM-YY                19104 non-null  datetime64[ns]\n",
      " 1   Driver_ID             19104 non-null  int64         \n",
      " 2   Age                   19104 non-null  float64       \n",
      " 3   Gender                19104 non-null  object        \n",
      " 4   City                  19104 non-null  object        \n",
      " 5   Education_Level       19104 non-null  object        \n",
      " 6   Income                19104 non-null  int64         \n",
      " 7   Dateofjoining         19104 non-null  datetime64[ns]\n",
      " 8   LastWorkingDate       1616 non-null   datetime64[ns]\n",
      " 9   Joining Designation   19104 non-null  object        \n",
      " 10  Grade                 19104 non-null  object        \n",
      " 11  Total Business Value  19104 non-null  int64         \n",
      " 12  Quarterly Rating      19104 non-null  object        \n",
      "dtypes: datetime64[ns](3), float64(1), int64(3), object(6)\n",
      "memory usage: 1.9+ MB\n"
     ]
    }
   ],
   "source": [
    "df.info()"
   ]
  },
  {
   "cell_type": "code",
   "execution_count": 398,
   "id": "06ede84b-6b46-457d-aacb-c89761471310",
   "metadata": {},
   "outputs": [
    {
     "data": {
      "text/html": [
       "<div>\n",
       "<style scoped>\n",
       "    .dataframe tbody tr th:only-of-type {\n",
       "        vertical-align: middle;\n",
       "    }\n",
       "\n",
       "    .dataframe tbody tr th {\n",
       "        vertical-align: top;\n",
       "    }\n",
       "\n",
       "    .dataframe thead th {\n",
       "        text-align: right;\n",
       "    }\n",
       "</style>\n",
       "<table border=\"1\" class=\"dataframe\">\n",
       "  <thead>\n",
       "    <tr style=\"text-align: right;\">\n",
       "      <th></th>\n",
       "      <th>count</th>\n",
       "      <th>mean</th>\n",
       "      <th>std</th>\n",
       "      <th>min</th>\n",
       "      <th>25%</th>\n",
       "      <th>50%</th>\n",
       "      <th>75%</th>\n",
       "      <th>max</th>\n",
       "    </tr>\n",
       "  </thead>\n",
       "  <tbody>\n",
       "    <tr>\n",
       "      <th>Driver_ID</th>\n",
       "      <td>19104.0</td>\n",
       "      <td>1415.591133</td>\n",
       "      <td>8.107053e+02</td>\n",
       "      <td>1.0</td>\n",
       "      <td>710.0</td>\n",
       "      <td>1417.0</td>\n",
       "      <td>2137.0</td>\n",
       "      <td>2788.0</td>\n",
       "    </tr>\n",
       "    <tr>\n",
       "      <th>Age</th>\n",
       "      <td>19104.0</td>\n",
       "      <td>34.662113</td>\n",
       "      <td>6.255011e+00</td>\n",
       "      <td>21.0</td>\n",
       "      <td>30.0</td>\n",
       "      <td>34.0</td>\n",
       "      <td>39.0</td>\n",
       "      <td>58.0</td>\n",
       "    </tr>\n",
       "    <tr>\n",
       "      <th>Income</th>\n",
       "      <td>19104.0</td>\n",
       "      <td>65652.025126</td>\n",
       "      <td>3.091452e+04</td>\n",
       "      <td>10747.0</td>\n",
       "      <td>42383.0</td>\n",
       "      <td>60087.0</td>\n",
       "      <td>83969.0</td>\n",
       "      <td>188418.0</td>\n",
       "    </tr>\n",
       "    <tr>\n",
       "      <th>Total Business Value</th>\n",
       "      <td>19104.0</td>\n",
       "      <td>571662.074958</td>\n",
       "      <td>1.128312e+06</td>\n",
       "      <td>-6000000.0</td>\n",
       "      <td>0.0</td>\n",
       "      <td>250000.0</td>\n",
       "      <td>699700.0</td>\n",
       "      <td>33747720.0</td>\n",
       "    </tr>\n",
       "  </tbody>\n",
       "</table>\n",
       "</div>"
      ],
      "text/plain": [
       "                        count           mean           std        min  \\\n",
       "Driver_ID             19104.0    1415.591133  8.107053e+02        1.0   \n",
       "Age                   19104.0      34.662113  6.255011e+00       21.0   \n",
       "Income                19104.0   65652.025126  3.091452e+04    10747.0   \n",
       "Total Business Value  19104.0  571662.074958  1.128312e+06 -6000000.0   \n",
       "\n",
       "                          25%       50%       75%         max  \n",
       "Driver_ID               710.0    1417.0    2137.0      2788.0  \n",
       "Age                      30.0      34.0      39.0        58.0  \n",
       "Income                42383.0   60087.0   83969.0    188418.0  \n",
       "Total Business Value      0.0  250000.0  699700.0  33747720.0  "
      ]
     },
     "execution_count": 398,
     "metadata": {},
     "output_type": "execute_result"
    }
   ],
   "source": [
    "df.describe().T"
   ]
  },
  {
   "cell_type": "code",
   "execution_count": 399,
   "id": "810fd18e-0bf9-41c6-9a20-f5acff6ed3c5",
   "metadata": {},
   "outputs": [
    {
     "data": {
      "text/html": [
       "<div>\n",
       "<style scoped>\n",
       "    .dataframe tbody tr th:only-of-type {\n",
       "        vertical-align: middle;\n",
       "    }\n",
       "\n",
       "    .dataframe tbody tr th {\n",
       "        vertical-align: top;\n",
       "    }\n",
       "\n",
       "    .dataframe thead th {\n",
       "        text-align: right;\n",
       "    }\n",
       "</style>\n",
       "<table border=\"1\" class=\"dataframe\">\n",
       "  <thead>\n",
       "    <tr style=\"text-align: right;\">\n",
       "      <th></th>\n",
       "      <th>count</th>\n",
       "      <th>unique</th>\n",
       "      <th>top</th>\n",
       "      <th>freq</th>\n",
       "    </tr>\n",
       "  </thead>\n",
       "  <tbody>\n",
       "    <tr>\n",
       "      <th>Gender</th>\n",
       "      <td>19104.0</td>\n",
       "      <td>2.0</td>\n",
       "      <td>0.0</td>\n",
       "      <td>11100.0</td>\n",
       "    </tr>\n",
       "    <tr>\n",
       "      <th>City</th>\n",
       "      <td>19104</td>\n",
       "      <td>29</td>\n",
       "      <td>C20</td>\n",
       "      <td>1008</td>\n",
       "    </tr>\n",
       "    <tr>\n",
       "      <th>Education_Level</th>\n",
       "      <td>19104</td>\n",
       "      <td>3</td>\n",
       "      <td>1</td>\n",
       "      <td>6864</td>\n",
       "    </tr>\n",
       "    <tr>\n",
       "      <th>Joining Designation</th>\n",
       "      <td>19104</td>\n",
       "      <td>5</td>\n",
       "      <td>1</td>\n",
       "      <td>9831</td>\n",
       "    </tr>\n",
       "    <tr>\n",
       "      <th>Grade</th>\n",
       "      <td>19104</td>\n",
       "      <td>5</td>\n",
       "      <td>2</td>\n",
       "      <td>6627</td>\n",
       "    </tr>\n",
       "    <tr>\n",
       "      <th>Quarterly Rating</th>\n",
       "      <td>19104</td>\n",
       "      <td>4</td>\n",
       "      <td>1</td>\n",
       "      <td>7679</td>\n",
       "    </tr>\n",
       "  </tbody>\n",
       "</table>\n",
       "</div>"
      ],
      "text/plain": [
       "                       count unique  top     freq\n",
       "Gender               19104.0    2.0  0.0  11100.0\n",
       "City                   19104     29  C20     1008\n",
       "Education_Level        19104      3    1     6864\n",
       "Joining Designation    19104      5    1     9831\n",
       "Grade                  19104      5    2     6627\n",
       "Quarterly Rating       19104      4    1     7679"
      ]
     },
     "execution_count": 399,
     "metadata": {},
     "output_type": "execute_result"
    }
   ],
   "source": [
    "df.describe(include='object').T"
   ]
  },
  {
   "cell_type": "code",
   "execution_count": 400,
   "id": "add083bc-c717-42d4-98e4-f70d1f413f80",
   "metadata": {},
   "outputs": [
    {
     "data": {
      "text/html": [
       "<div>\n",
       "<style scoped>\n",
       "    .dataframe tbody tr th:only-of-type {\n",
       "        vertical-align: middle;\n",
       "    }\n",
       "\n",
       "    .dataframe tbody tr th {\n",
       "        vertical-align: top;\n",
       "    }\n",
       "\n",
       "    .dataframe thead th {\n",
       "        text-align: right;\n",
       "    }\n",
       "</style>\n",
       "<table border=\"1\" class=\"dataframe\">\n",
       "  <thead>\n",
       "    <tr style=\"text-align: right;\">\n",
       "      <th></th>\n",
       "      <th>count</th>\n",
       "      <th>unique</th>\n",
       "      <th>top</th>\n",
       "      <th>freq</th>\n",
       "      <th>first</th>\n",
       "      <th>last</th>\n",
       "    </tr>\n",
       "  </thead>\n",
       "  <tbody>\n",
       "    <tr>\n",
       "      <th>MMM-YY</th>\n",
       "      <td>19104</td>\n",
       "      <td>24</td>\n",
       "      <td>2019-01-01</td>\n",
       "      <td>1022</td>\n",
       "      <td>2019-01-01</td>\n",
       "      <td>2020-12-01</td>\n",
       "    </tr>\n",
       "    <tr>\n",
       "      <th>Dateofjoining</th>\n",
       "      <td>19104</td>\n",
       "      <td>869</td>\n",
       "      <td>2015-07-23</td>\n",
       "      <td>192</td>\n",
       "      <td>2013-04-01</td>\n",
       "      <td>2020-12-28</td>\n",
       "    </tr>\n",
       "    <tr>\n",
       "      <th>LastWorkingDate</th>\n",
       "      <td>1616</td>\n",
       "      <td>493</td>\n",
       "      <td>2020-07-29</td>\n",
       "      <td>70</td>\n",
       "      <td>2018-12-31</td>\n",
       "      <td>2020-12-28</td>\n",
       "    </tr>\n",
       "  </tbody>\n",
       "</table>\n",
       "</div>"
      ],
      "text/plain": [
       "                 count unique        top  freq      first       last\n",
       "MMM-YY           19104     24 2019-01-01  1022 2019-01-01 2020-12-01\n",
       "Dateofjoining    19104    869 2015-07-23   192 2013-04-01 2020-12-28\n",
       "LastWorkingDate   1616    493 2020-07-29    70 2018-12-31 2020-12-28"
      ]
     },
     "execution_count": 400,
     "metadata": {},
     "output_type": "execute_result"
    }
   ],
   "source": [
    "df.describe(include='datetime').T"
   ]
  },
  {
   "cell_type": "markdown",
   "id": "9a508fec-7561-4fe1-b052-bbe0f97a2570",
   "metadata": {},
   "source": [
    "#### <span style='color:red'>Observations</span>"
   ]
  },
  {
   "cell_type": "markdown",
   "id": "1e9e2900-dc87-44cb-9c82-38e59815adf0",
   "metadata": {},
   "source": [
    "1. Age mean and median are same and in range of 21-58.\n",
    "2. Income mean and median are almost equal ~60k.\n",
    "3. Total business value in range -6M to 33.7M where mean and median are not equal, possibility of outliers is there.\n",
    "4. Majority value for gender is Male.\n",
    "5. City has 29 unique types where C20 is on top.\n",
    "6. Quartely rating 1 is on top with 7679 counts.\n",
    "7. We have reporting data from jan 2019 till dec 2020.\n",
    "8. Joining date 23-7-2015 is on top with 192 freq and in range from apr 13 till dec 20.\n",
    "9. LWD is in range from July 18 till dec 20.\n",
    "10. Dataset has missing values for age, gender and lwd 0.3%, 0.27 and 91% respectively."
   ]
  },
  {
   "cell_type": "markdown",
   "id": "22d15fa9-e12c-4a95-87a6-756e65110870",
   "metadata": {},
   "source": [
    "### Groupby data at driver level"
   ]
  },
  {
   "cell_type": "code",
   "execution_count": 401,
   "id": "5bb21027-92ca-4f5a-8507-c6e084f4731a",
   "metadata": {},
   "outputs": [
    {
     "data": {
      "text/html": [
       "<div>\n",
       "<style scoped>\n",
       "    .dataframe tbody tr th:only-of-type {\n",
       "        vertical-align: middle;\n",
       "    }\n",
       "\n",
       "    .dataframe tbody tr th {\n",
       "        vertical-align: top;\n",
       "    }\n",
       "\n",
       "    .dataframe thead th {\n",
       "        text-align: right;\n",
       "    }\n",
       "</style>\n",
       "<table border=\"1\" class=\"dataframe\">\n",
       "  <thead>\n",
       "    <tr style=\"text-align: right;\">\n",
       "      <th></th>\n",
       "      <th>MMM-YY</th>\n",
       "      <th>Driver_ID</th>\n",
       "      <th>Age</th>\n",
       "      <th>Gender</th>\n",
       "      <th>City</th>\n",
       "      <th>Education_Level</th>\n",
       "      <th>Income</th>\n",
       "      <th>Dateofjoining</th>\n",
       "      <th>LastWorkingDate</th>\n",
       "      <th>Joining Designation</th>\n",
       "      <th>Grade</th>\n",
       "      <th>Total Business Value</th>\n",
       "      <th>Quarterly Rating</th>\n",
       "    </tr>\n",
       "  </thead>\n",
       "  <tbody>\n",
       "    <tr>\n",
       "      <th>74</th>\n",
       "      <td>2019-01-01</td>\n",
       "      <td>21</td>\n",
       "      <td>33.0</td>\n",
       "      <td>1.0</td>\n",
       "      <td>C29</td>\n",
       "      <td>1</td>\n",
       "      <td>22755</td>\n",
       "      <td>2018-05-12</td>\n",
       "      <td>NaT</td>\n",
       "      <td>1</td>\n",
       "      <td>1</td>\n",
       "      <td>948560</td>\n",
       "      <td>4</td>\n",
       "    </tr>\n",
       "    <tr>\n",
       "      <th>75</th>\n",
       "      <td>2019-02-01</td>\n",
       "      <td>21</td>\n",
       "      <td>33.0</td>\n",
       "      <td>1.0</td>\n",
       "      <td>C29</td>\n",
       "      <td>1</td>\n",
       "      <td>22755</td>\n",
       "      <td>2018-05-12</td>\n",
       "      <td>NaT</td>\n",
       "      <td>1</td>\n",
       "      <td>1</td>\n",
       "      <td>551740</td>\n",
       "      <td>4</td>\n",
       "    </tr>\n",
       "    <tr>\n",
       "      <th>76</th>\n",
       "      <td>2019-03-01</td>\n",
       "      <td>21</td>\n",
       "      <td>33.0</td>\n",
       "      <td>1.0</td>\n",
       "      <td>C29</td>\n",
       "      <td>1</td>\n",
       "      <td>22755</td>\n",
       "      <td>2018-05-12</td>\n",
       "      <td>NaT</td>\n",
       "      <td>1</td>\n",
       "      <td>1</td>\n",
       "      <td>3295370</td>\n",
       "      <td>4</td>\n",
       "    </tr>\n",
       "    <tr>\n",
       "      <th>77</th>\n",
       "      <td>2019-04-01</td>\n",
       "      <td>21</td>\n",
       "      <td>33.0</td>\n",
       "      <td>1.0</td>\n",
       "      <td>C29</td>\n",
       "      <td>1</td>\n",
       "      <td>22755</td>\n",
       "      <td>2018-05-12</td>\n",
       "      <td>NaT</td>\n",
       "      <td>1</td>\n",
       "      <td>1</td>\n",
       "      <td>0</td>\n",
       "      <td>2</td>\n",
       "    </tr>\n",
       "    <tr>\n",
       "      <th>78</th>\n",
       "      <td>2019-05-01</td>\n",
       "      <td>21</td>\n",
       "      <td>33.0</td>\n",
       "      <td>1.0</td>\n",
       "      <td>C29</td>\n",
       "      <td>1</td>\n",
       "      <td>22755</td>\n",
       "      <td>2018-05-12</td>\n",
       "      <td>NaT</td>\n",
       "      <td>1</td>\n",
       "      <td>1</td>\n",
       "      <td>116350</td>\n",
       "      <td>2</td>\n",
       "    </tr>\n",
       "    <tr>\n",
       "      <th>79</th>\n",
       "      <td>2019-06-01</td>\n",
       "      <td>21</td>\n",
       "      <td>33.0</td>\n",
       "      <td>1.0</td>\n",
       "      <td>C29</td>\n",
       "      <td>1</td>\n",
       "      <td>22755</td>\n",
       "      <td>2018-05-12</td>\n",
       "      <td>NaT</td>\n",
       "      <td>1</td>\n",
       "      <td>1</td>\n",
       "      <td>533260</td>\n",
       "      <td>2</td>\n",
       "    </tr>\n",
       "    <tr>\n",
       "      <th>80</th>\n",
       "      <td>2019-07-01</td>\n",
       "      <td>21</td>\n",
       "      <td>33.0</td>\n",
       "      <td>1.0</td>\n",
       "      <td>C29</td>\n",
       "      <td>1</td>\n",
       "      <td>22755</td>\n",
       "      <td>2018-05-12</td>\n",
       "      <td>NaT</td>\n",
       "      <td>1</td>\n",
       "      <td>1</td>\n",
       "      <td>150450</td>\n",
       "      <td>2</td>\n",
       "    </tr>\n",
       "    <tr>\n",
       "      <th>81</th>\n",
       "      <td>2019-08-01</td>\n",
       "      <td>21</td>\n",
       "      <td>33.0</td>\n",
       "      <td>1.0</td>\n",
       "      <td>C29</td>\n",
       "      <td>1</td>\n",
       "      <td>22755</td>\n",
       "      <td>2018-05-12</td>\n",
       "      <td>NaT</td>\n",
       "      <td>1</td>\n",
       "      <td>1</td>\n",
       "      <td>0</td>\n",
       "      <td>2</td>\n",
       "    </tr>\n",
       "    <tr>\n",
       "      <th>82</th>\n",
       "      <td>2019-09-01</td>\n",
       "      <td>21</td>\n",
       "      <td>33.0</td>\n",
       "      <td>1.0</td>\n",
       "      <td>C29</td>\n",
       "      <td>1</td>\n",
       "      <td>22755</td>\n",
       "      <td>2018-05-12</td>\n",
       "      <td>NaT</td>\n",
       "      <td>1</td>\n",
       "      <td>1</td>\n",
       "      <td>520980</td>\n",
       "      <td>2</td>\n",
       "    </tr>\n",
       "    <tr>\n",
       "      <th>83</th>\n",
       "      <td>2019-10-01</td>\n",
       "      <td>21</td>\n",
       "      <td>33.0</td>\n",
       "      <td>1.0</td>\n",
       "      <td>C29</td>\n",
       "      <td>1</td>\n",
       "      <td>22755</td>\n",
       "      <td>2018-05-12</td>\n",
       "      <td>NaT</td>\n",
       "      <td>1</td>\n",
       "      <td>1</td>\n",
       "      <td>150600</td>\n",
       "      <td>2</td>\n",
       "    </tr>\n",
       "    <tr>\n",
       "      <th>84</th>\n",
       "      <td>2019-11-01</td>\n",
       "      <td>21</td>\n",
       "      <td>34.0</td>\n",
       "      <td>1.0</td>\n",
       "      <td>C29</td>\n",
       "      <td>1</td>\n",
       "      <td>22755</td>\n",
       "      <td>2018-05-12</td>\n",
       "      <td>NaT</td>\n",
       "      <td>1</td>\n",
       "      <td>1</td>\n",
       "      <td>0</td>\n",
       "      <td>2</td>\n",
       "    </tr>\n",
       "    <tr>\n",
       "      <th>85</th>\n",
       "      <td>2019-12-01</td>\n",
       "      <td>21</td>\n",
       "      <td>34.0</td>\n",
       "      <td>1.0</td>\n",
       "      <td>C29</td>\n",
       "      <td>1</td>\n",
       "      <td>22755</td>\n",
       "      <td>2018-05-12</td>\n",
       "      <td>NaT</td>\n",
       "      <td>1</td>\n",
       "      <td>1</td>\n",
       "      <td>263690</td>\n",
       "      <td>2</td>\n",
       "    </tr>\n",
       "    <tr>\n",
       "      <th>86</th>\n",
       "      <td>2020-01-01</td>\n",
       "      <td>21</td>\n",
       "      <td>34.0</td>\n",
       "      <td>1.0</td>\n",
       "      <td>C29</td>\n",
       "      <td>1</td>\n",
       "      <td>22755</td>\n",
       "      <td>2018-05-12</td>\n",
       "      <td>NaT</td>\n",
       "      <td>1</td>\n",
       "      <td>1</td>\n",
       "      <td>150170</td>\n",
       "      <td>1</td>\n",
       "    </tr>\n",
       "    <tr>\n",
       "      <th>87</th>\n",
       "      <td>2020-02-01</td>\n",
       "      <td>21</td>\n",
       "      <td>34.0</td>\n",
       "      <td>1.0</td>\n",
       "      <td>C29</td>\n",
       "      <td>1</td>\n",
       "      <td>22755</td>\n",
       "      <td>2018-05-12</td>\n",
       "      <td>2020-02-17</td>\n",
       "      <td>1</td>\n",
       "      <td>1</td>\n",
       "      <td>281380</td>\n",
       "      <td>1</td>\n",
       "    </tr>\n",
       "  </tbody>\n",
       "</table>\n",
       "</div>"
      ],
      "text/plain": [
       "       MMM-YY  Driver_ID   Age Gender City Education_Level  Income  \\\n",
       "74 2019-01-01         21  33.0    1.0  C29               1   22755   \n",
       "75 2019-02-01         21  33.0    1.0  C29               1   22755   \n",
       "76 2019-03-01         21  33.0    1.0  C29               1   22755   \n",
       "77 2019-04-01         21  33.0    1.0  C29               1   22755   \n",
       "78 2019-05-01         21  33.0    1.0  C29               1   22755   \n",
       "79 2019-06-01         21  33.0    1.0  C29               1   22755   \n",
       "80 2019-07-01         21  33.0    1.0  C29               1   22755   \n",
       "81 2019-08-01         21  33.0    1.0  C29               1   22755   \n",
       "82 2019-09-01         21  33.0    1.0  C29               1   22755   \n",
       "83 2019-10-01         21  33.0    1.0  C29               1   22755   \n",
       "84 2019-11-01         21  34.0    1.0  C29               1   22755   \n",
       "85 2019-12-01         21  34.0    1.0  C29               1   22755   \n",
       "86 2020-01-01         21  34.0    1.0  C29               1   22755   \n",
       "87 2020-02-01         21  34.0    1.0  C29               1   22755   \n",
       "\n",
       "   Dateofjoining LastWorkingDate Joining Designation Grade  \\\n",
       "74    2018-05-12             NaT                   1     1   \n",
       "75    2018-05-12             NaT                   1     1   \n",
       "76    2018-05-12             NaT                   1     1   \n",
       "77    2018-05-12             NaT                   1     1   \n",
       "78    2018-05-12             NaT                   1     1   \n",
       "79    2018-05-12             NaT                   1     1   \n",
       "80    2018-05-12             NaT                   1     1   \n",
       "81    2018-05-12             NaT                   1     1   \n",
       "82    2018-05-12             NaT                   1     1   \n",
       "83    2018-05-12             NaT                   1     1   \n",
       "84    2018-05-12             NaT                   1     1   \n",
       "85    2018-05-12             NaT                   1     1   \n",
       "86    2018-05-12             NaT                   1     1   \n",
       "87    2018-05-12      2020-02-17                   1     1   \n",
       "\n",
       "    Total Business Value Quarterly Rating  \n",
       "74                948560                4  \n",
       "75                551740                4  \n",
       "76               3295370                4  \n",
       "77                     0                2  \n",
       "78                116350                2  \n",
       "79                533260                2  \n",
       "80                150450                2  \n",
       "81                     0                2  \n",
       "82                520980                2  \n",
       "83                150600                2  \n",
       "84                     0                2  \n",
       "85                263690                2  \n",
       "86                150170                1  \n",
       "87                281380                1  "
      ]
     },
     "execution_count": 401,
     "metadata": {},
     "output_type": "execute_result"
    }
   ],
   "source": [
    "df[df.Driver_ID==21]"
   ]
  },
  {
   "cell_type": "code",
   "execution_count": 402,
   "id": "989f3724-0d85-4d8f-ae4b-2856def60e2e",
   "metadata": {},
   "outputs": [],
   "source": [
    "#get unique values for income and quar ratings\n",
    "def get_unqiue(row):\n",
    "    res = list()\n",
    "    for a in row:\n",
    "        if a not in res:\n",
    "            res.append(a)\n",
    "    return res\n",
    "\n",
    "#get quarterly rating and income indicator\n",
    "def increase_ind(row):\n",
    "    if len(row)>1:\n",
    "        if int(row[-1]) > int(row[0]):\n",
    "            return 1\n",
    "        else:\n",
    "            return 0\n",
    "    else:\n",
    "        return 0\n"
   ]
  },
  {
   "cell_type": "markdown",
   "id": "795b7e1a-963c-445c-a1d4-c5b8b475a7b8",
   "metadata": {},
   "source": [
    "`We need flags for Income and quar-rating in case increment so lets preserve all unique values in order and later compare first and last value to create new feature.`"
   ]
  },
  {
   "cell_type": "code",
   "execution_count": 403,
   "id": "f505bd96-f1e6-4aee-b742-358e9b39ccbd",
   "metadata": {},
   "outputs": [],
   "source": [
    "df_gp = df.groupby('Driver_ID')\n",
    "df_gp = df_gp.aggregate({'MMM-YY':'last',\n",
    "                 'Age':max,\n",
    "                 'Gender':max,\n",
    "                 'City':'last',\n",
    "                 'Education_Level':'last',\n",
    "                 'Income':get_unqiue,\n",
    "                 'Dateofjoining':'last',\n",
    "                 'LastWorkingDate':'last',\n",
    "                 'Joining Designation':'last',\n",
    "                 'Grade':'last',\n",
    "                 'Total Business Value':sum,\n",
    "                 'Quarterly Rating':get_unqiue\n",
    "})"
   ]
  },
  {
   "cell_type": "code",
   "execution_count": 404,
   "id": "5dd78a3a-08cd-4565-86d1-ddc226831e8a",
   "metadata": {},
   "outputs": [],
   "source": [
    "df_gp.reset_index(inplace=True)"
   ]
  },
  {
   "cell_type": "markdown",
   "id": "c0b2f972-c9fe-4923-8b32-5382d18859ac",
   "metadata": {},
   "source": [
    "### Feature engineering"
   ]
  },
  {
   "cell_type": "code",
   "execution_count": 405,
   "id": "0ac94373-8dc9-490b-a04a-e928783b464e",
   "metadata": {},
   "outputs": [],
   "source": [
    "df_gp['income_inc'] = df_gp['Income'].apply(increase_ind)\n",
    "df_gp['quar_rating_inc'] = df_gp['Quarterly Rating'].apply(increase_ind)\n",
    "df_gp['target'] = df_gp['LastWorkingDate'].apply(lambda x : 1 if str(x)!='NaT' else 0)"
   ]
  },
  {
   "cell_type": "code",
   "execution_count": 406,
   "id": "a8c7dc9c-dc13-492c-aa43-76aa038beb58",
   "metadata": {},
   "outputs": [],
   "source": [
    "df_gp['joiningMonth'] = df_gp['Dateofjoining'].dt.month\n",
    "df_gp['joiningYear'] = df_gp['Dateofjoining'].dt.year"
   ]
  },
  {
   "cell_type": "code",
   "execution_count": 407,
   "id": "dcb35031-a30f-4ade-92b5-6782ba293f10",
   "metadata": {},
   "outputs": [],
   "source": [
    "df_gp['Income'] = df_gp['Income'].apply(lambda x: x[-1])\n",
    "df_gp['Quarterly Rating'] = df_gp['Quarterly Rating'].apply(lambda x: x[-1])"
   ]
  },
  {
   "cell_type": "code",
   "execution_count": 408,
   "id": "492eff8d-4b74-461f-9005-2cb926b65a69",
   "metadata": {},
   "outputs": [
    {
     "data": {
      "text/html": [
       "<div>\n",
       "<style scoped>\n",
       "    .dataframe tbody tr th:only-of-type {\n",
       "        vertical-align: middle;\n",
       "    }\n",
       "\n",
       "    .dataframe tbody tr th {\n",
       "        vertical-align: top;\n",
       "    }\n",
       "\n",
       "    .dataframe thead th {\n",
       "        text-align: right;\n",
       "    }\n",
       "</style>\n",
       "<table border=\"1\" class=\"dataframe\">\n",
       "  <thead>\n",
       "    <tr style=\"text-align: right;\">\n",
       "      <th></th>\n",
       "      <th>Driver_ID</th>\n",
       "      <th>MMM-YY</th>\n",
       "      <th>Age</th>\n",
       "      <th>Gender</th>\n",
       "      <th>City</th>\n",
       "      <th>Education_Level</th>\n",
       "      <th>Income</th>\n",
       "      <th>Dateofjoining</th>\n",
       "      <th>LastWorkingDate</th>\n",
       "      <th>Joining Designation</th>\n",
       "      <th>Grade</th>\n",
       "      <th>Total Business Value</th>\n",
       "      <th>Quarterly Rating</th>\n",
       "      <th>income_inc</th>\n",
       "      <th>quar_rating_inc</th>\n",
       "      <th>target</th>\n",
       "      <th>joiningMonth</th>\n",
       "      <th>joiningYear</th>\n",
       "    </tr>\n",
       "  </thead>\n",
       "  <tbody>\n",
       "    <tr>\n",
       "      <th>2355</th>\n",
       "      <td>2758</td>\n",
       "      <td>2020-03-01</td>\n",
       "      <td>33.0</td>\n",
       "      <td>0.0</td>\n",
       "      <td>C26</td>\n",
       "      <td>1</td>\n",
       "      <td>69141</td>\n",
       "      <td>2019-11-07</td>\n",
       "      <td>2020-03-23</td>\n",
       "      <td>2</td>\n",
       "      <td>2</td>\n",
       "      <td>590220</td>\n",
       "      <td>1</td>\n",
       "      <td>0</td>\n",
       "      <td>0</td>\n",
       "      <td>1</td>\n",
       "      <td>11</td>\n",
       "      <td>2019</td>\n",
       "    </tr>\n",
       "    <tr>\n",
       "      <th>37</th>\n",
       "      <td>50</td>\n",
       "      <td>2019-02-01</td>\n",
       "      <td>49.0</td>\n",
       "      <td>1.0</td>\n",
       "      <td>C5</td>\n",
       "      <td>0</td>\n",
       "      <td>89367</td>\n",
       "      <td>2018-11-20</td>\n",
       "      <td>2019-02-20</td>\n",
       "      <td>3</td>\n",
       "      <td>3</td>\n",
       "      <td>110310</td>\n",
       "      <td>1</td>\n",
       "      <td>0</td>\n",
       "      <td>0</td>\n",
       "      <td>1</td>\n",
       "      <td>11</td>\n",
       "      <td>2018</td>\n",
       "    </tr>\n",
       "    <tr>\n",
       "      <th>2251</th>\n",
       "      <td>2637</td>\n",
       "      <td>2019-04-01</td>\n",
       "      <td>41.0</td>\n",
       "      <td>0.0</td>\n",
       "      <td>C15</td>\n",
       "      <td>0</td>\n",
       "      <td>19724</td>\n",
       "      <td>2017-09-12</td>\n",
       "      <td>2019-04-26</td>\n",
       "      <td>1</td>\n",
       "      <td>1</td>\n",
       "      <td>1464860</td>\n",
       "      <td>1</td>\n",
       "      <td>0</td>\n",
       "      <td>0</td>\n",
       "      <td>1</td>\n",
       "      <td>9</td>\n",
       "      <td>2017</td>\n",
       "    </tr>\n",
       "    <tr>\n",
       "      <th>1202</th>\n",
       "      <td>1414</td>\n",
       "      <td>2020-12-01</td>\n",
       "      <td>31.0</td>\n",
       "      <td>1.0</td>\n",
       "      <td>C29</td>\n",
       "      <td>1</td>\n",
       "      <td>47329</td>\n",
       "      <td>2017-11-06</td>\n",
       "      <td>NaT</td>\n",
       "      <td>1</td>\n",
       "      <td>2</td>\n",
       "      <td>20941450</td>\n",
       "      <td>4</td>\n",
       "      <td>0</td>\n",
       "      <td>1</td>\n",
       "      <td>0</td>\n",
       "      <td>11</td>\n",
       "      <td>2017</td>\n",
       "    </tr>\n",
       "    <tr>\n",
       "      <th>1710</th>\n",
       "      <td>2013</td>\n",
       "      <td>2019-08-01</td>\n",
       "      <td>37.0</td>\n",
       "      <td>1.0</td>\n",
       "      <td>C20</td>\n",
       "      <td>2</td>\n",
       "      <td>59274</td>\n",
       "      <td>2018-05-15</td>\n",
       "      <td>2019-08-05</td>\n",
       "      <td>1</td>\n",
       "      <td>1</td>\n",
       "      <td>3015730</td>\n",
       "      <td>2</td>\n",
       "      <td>0</td>\n",
       "      <td>0</td>\n",
       "      <td>1</td>\n",
       "      <td>5</td>\n",
       "      <td>2018</td>\n",
       "    </tr>\n",
       "  </tbody>\n",
       "</table>\n",
       "</div>"
      ],
      "text/plain": [
       "      Driver_ID     MMM-YY   Age  Gender City Education_Level  Income  \\\n",
       "2355       2758 2020-03-01  33.0     0.0  C26               1   69141   \n",
       "37           50 2019-02-01  49.0     1.0   C5               0   89367   \n",
       "2251       2637 2019-04-01  41.0     0.0  C15               0   19724   \n",
       "1202       1414 2020-12-01  31.0     1.0  C29               1   47329   \n",
       "1710       2013 2019-08-01  37.0     1.0  C20               2   59274   \n",
       "\n",
       "     Dateofjoining LastWorkingDate Joining Designation Grade  \\\n",
       "2355    2019-11-07      2020-03-23                   2     2   \n",
       "37      2018-11-20      2019-02-20                   3     3   \n",
       "2251    2017-09-12      2019-04-26                   1     1   \n",
       "1202    2017-11-06             NaT                   1     2   \n",
       "1710    2018-05-15      2019-08-05                   1     1   \n",
       "\n",
       "      Total Business Value  Quarterly Rating  income_inc  quar_rating_inc  \\\n",
       "2355                590220                 1           0                0   \n",
       "37                  110310                 1           0                0   \n",
       "2251               1464860                 1           0                0   \n",
       "1202              20941450                 4           0                1   \n",
       "1710               3015730                 2           0                0   \n",
       "\n",
       "      target  joiningMonth  joiningYear  \n",
       "2355       1            11         2019  \n",
       "37         1            11         2018  \n",
       "2251       1             9         2017  \n",
       "1202       0            11         2017  \n",
       "1710       1             5         2018  "
      ]
     },
     "execution_count": 408,
     "metadata": {},
     "output_type": "execute_result"
    }
   ],
   "source": [
    "df_gp.sample(5)"
   ]
  },
  {
   "cell_type": "markdown",
   "id": "19b78ca4-1a39-4651-82e0-8e14c950aae1",
   "metadata": {},
   "source": [
    "### Remvoe unnecessary columns"
   ]
  },
  {
   "cell_type": "code",
   "execution_count": 409,
   "id": "c5648650-f0c1-4b10-86f0-56c75b0a3efd",
   "metadata": {},
   "outputs": [],
   "source": [
    "drop_cols = ['Driver_ID', 'MMM-YY', 'Dateofjoining', 'LastWorkingDate']\n",
    "df_gp.drop(drop_cols, axis=1, inplace=True)"
   ]
  },
  {
   "cell_type": "code",
   "execution_count": 410,
   "id": "9376bd2a-3898-4ba8-8827-5e8440599595",
   "metadata": {},
   "outputs": [
    {
     "data": {
      "text/html": [
       "<div>\n",
       "<style scoped>\n",
       "    .dataframe tbody tr th:only-of-type {\n",
       "        vertical-align: middle;\n",
       "    }\n",
       "\n",
       "    .dataframe tbody tr th {\n",
       "        vertical-align: top;\n",
       "    }\n",
       "\n",
       "    .dataframe thead th {\n",
       "        text-align: right;\n",
       "    }\n",
       "</style>\n",
       "<table border=\"1\" class=\"dataframe\">\n",
       "  <thead>\n",
       "    <tr style=\"text-align: right;\">\n",
       "      <th></th>\n",
       "      <th>Age</th>\n",
       "      <th>Gender</th>\n",
       "      <th>City</th>\n",
       "      <th>Education_Level</th>\n",
       "      <th>Income</th>\n",
       "      <th>Joining Designation</th>\n",
       "      <th>Grade</th>\n",
       "      <th>Total Business Value</th>\n",
       "      <th>Quarterly Rating</th>\n",
       "      <th>income_inc</th>\n",
       "      <th>quar_rating_inc</th>\n",
       "      <th>target</th>\n",
       "      <th>joiningMonth</th>\n",
       "      <th>joiningYear</th>\n",
       "    </tr>\n",
       "  </thead>\n",
       "  <tbody>\n",
       "    <tr>\n",
       "      <th>1771</th>\n",
       "      <td>30.0</td>\n",
       "      <td>1.0</td>\n",
       "      <td>C22</td>\n",
       "      <td>2</td>\n",
       "      <td>50787</td>\n",
       "      <td>1</td>\n",
       "      <td>1</td>\n",
       "      <td>3991680</td>\n",
       "      <td>1</td>\n",
       "      <td>0</td>\n",
       "      <td>0</td>\n",
       "      <td>1</td>\n",
       "      <td>7</td>\n",
       "      <td>2018</td>\n",
       "    </tr>\n",
       "    <tr>\n",
       "      <th>1841</th>\n",
       "      <td>37.0</td>\n",
       "      <td>1.0</td>\n",
       "      <td>C23</td>\n",
       "      <td>0</td>\n",
       "      <td>45604</td>\n",
       "      <td>1</td>\n",
       "      <td>1</td>\n",
       "      <td>0</td>\n",
       "      <td>1</td>\n",
       "      <td>0</td>\n",
       "      <td>0</td>\n",
       "      <td>1</td>\n",
       "      <td>8</td>\n",
       "      <td>2019</td>\n",
       "    </tr>\n",
       "    <tr>\n",
       "      <th>1976</th>\n",
       "      <td>29.0</td>\n",
       "      <td>0.0</td>\n",
       "      <td>C28</td>\n",
       "      <td>2</td>\n",
       "      <td>23334</td>\n",
       "      <td>1</td>\n",
       "      <td>1</td>\n",
       "      <td>399460</td>\n",
       "      <td>1</td>\n",
       "      <td>0</td>\n",
       "      <td>0</td>\n",
       "      <td>1</td>\n",
       "      <td>1</td>\n",
       "      <td>2020</td>\n",
       "    </tr>\n",
       "    <tr>\n",
       "      <th>373</th>\n",
       "      <td>40.0</td>\n",
       "      <td>0.0</td>\n",
       "      <td>C16</td>\n",
       "      <td>1</td>\n",
       "      <td>113125</td>\n",
       "      <td>2</td>\n",
       "      <td>4</td>\n",
       "      <td>16391700</td>\n",
       "      <td>3</td>\n",
       "      <td>0</td>\n",
       "      <td>1</td>\n",
       "      <td>0</td>\n",
       "      <td>8</td>\n",
       "      <td>2013</td>\n",
       "    </tr>\n",
       "    <tr>\n",
       "      <th>1906</th>\n",
       "      <td>49.0</td>\n",
       "      <td>1.0</td>\n",
       "      <td>C3</td>\n",
       "      <td>0</td>\n",
       "      <td>53572</td>\n",
       "      <td>1</td>\n",
       "      <td>2</td>\n",
       "      <td>3408200</td>\n",
       "      <td>1</td>\n",
       "      <td>0</td>\n",
       "      <td>0</td>\n",
       "      <td>1</td>\n",
       "      <td>8</td>\n",
       "      <td>2015</td>\n",
       "    </tr>\n",
       "  </tbody>\n",
       "</table>\n",
       "</div>"
      ],
      "text/plain": [
       "       Age  Gender City Education_Level  Income Joining Designation Grade  \\\n",
       "1771  30.0     1.0  C22               2   50787                   1     1   \n",
       "1841  37.0     1.0  C23               0   45604                   1     1   \n",
       "1976  29.0     0.0  C28               2   23334                   1     1   \n",
       "373   40.0     0.0  C16               1  113125                   2     4   \n",
       "1906  49.0     1.0   C3               0   53572                   1     2   \n",
       "\n",
       "      Total Business Value  Quarterly Rating  income_inc  quar_rating_inc  \\\n",
       "1771               3991680                 1           0                0   \n",
       "1841                     0                 1           0                0   \n",
       "1976                399460                 1           0                0   \n",
       "373               16391700                 3           0                1   \n",
       "1906               3408200                 1           0                0   \n",
       "\n",
       "      target  joiningMonth  joiningYear  \n",
       "1771       1             7         2018  \n",
       "1841       1             8         2019  \n",
       "1976       1             1         2020  \n",
       "373        0             8         2013  \n",
       "1906       1             8         2015  "
      ]
     },
     "execution_count": 410,
     "metadata": {},
     "output_type": "execute_result"
    }
   ],
   "source": [
    "df_gp.sample(5)"
   ]
  },
  {
   "cell_type": "markdown",
   "id": "225c68b7-151e-4801-8567-626c6e0fe797",
   "metadata": {},
   "source": [
    "### Univariate analysis"
   ]
  },
  {
   "cell_type": "code",
   "execution_count": 411,
   "id": "5a869107-bb57-48bc-a5bd-18c9125efec7",
   "metadata": {},
   "outputs": [
    {
     "data": {
      "text/plain": [
       "31.0    169\n",
       "32.0    169\n",
       "34.0    167\n",
       "30.0    154\n",
       "33.0    147\n",
       "36.0    141\n",
       "35.0    139\n",
       "29.0    131\n",
       "37.0    125\n",
       "28.0    120\n",
       "27.0    105\n",
       "38.0     98\n",
       "39.0     87\n",
       "25.0     78\n",
       "41.0     76\n",
       "26.0     69\n",
       "40.0     63\n",
       "42.0     53\n",
       "43.0     41\n",
       "24.0     41\n",
       "44.0     36\n",
       "23.0     36\n",
       "46.0     28\n",
       "45.0     27\n",
       "47.0     19\n",
       "48.0     13\n",
       "49.0     11\n",
       "22.0     11\n",
       "52.0      8\n",
       "51.0      6\n",
       "50.0      5\n",
       "21.0      2\n",
       "53.0      2\n",
       "55.0      2\n",
       "54.0      1\n",
       "58.0      1\n",
       "Name: Age, dtype: int64"
      ]
     },
     "execution_count": 411,
     "metadata": {},
     "output_type": "execute_result"
    }
   ],
   "source": [
    "df_gp['Age'].value_counts()"
   ]
  },
  {
   "cell_type": "code",
   "execution_count": 412,
   "id": "12bbf85e-d657-474d-968d-003064de945e",
   "metadata": {},
   "outputs": [
    {
     "data": {
      "image/png": "[encoded data removed]",
      "text/plain": [
       "<Figure size 1080x360 with 2 Axes>"
      ]
     },
     "metadata": {
      "needs_background": "light"
     },
     "output_type": "display_data"
    }
   ],
   "source": [
    "col = df_gp['Age']\n",
    "col_name = 'Age'\n",
    "\n",
    "plt.subplot(1,2,1)\n",
    "sns.boxplot(col)\n",
    "plt.title(col_name+' boxplot')\n",
    "plt.subplot(1,2,2)\n",
    "sns.distplot(col ,hist_kws={'edgecolor':'black'}, kde_kws={'linewidth': 3})\n",
    "plt.title(col_name+' histogram')\n",
    "plt.show()"
   ]
  },
  {
   "cell_type": "code",
   "execution_count": 413,
   "id": "e4df1e5c-c8fb-46cb-99cc-d6580c137936",
   "metadata": {},
   "outputs": [
    {
     "data": {
      "image/png": "[encoded data removed]",
      "text/plain": [
       "<Figure size 1080x360 with 2 Axes>"
      ]
     },
     "metadata": {
      "needs_background": "light"
     },
     "output_type": "display_data"
    }
   ],
   "source": [
    "col = df_gp['Income']\n",
    "col_name = 'Income'\n",
    "\n",
    "plt.subplot(1,2,1)\n",
    "sns.boxplot(col)\n",
    "plt.title(col_name+' boxplot')\n",
    "plt.subplot(1,2,2)\n",
    "sns.distplot(col ,hist_kws={'edgecolor':'black'}, kde_kws={'linewidth': 3})\n",
    "plt.title(col_name+' histogram')\n",
    "plt.show()"
   ]
  },
  {
   "cell_type": "code",
   "execution_count": 414,
   "id": "a2c8aa33-6697-473e-9c24-0bb5678edbc5",
   "metadata": {},
   "outputs": [
    {
     "data": {
      "image/png": "[encoded data removed]",
      "text/plain": [
       "<Figure size 1080x360 with 2 Axes>"
      ]
     },
     "metadata": {
      "needs_background": "light"
     },
     "output_type": "display_data"
    }
   ],
   "source": [
    "col = df_gp['Total Business Value']\n",
    "col_name = 'Total Business Value'\n",
    "\n",
    "plt.subplot(1,2,1)\n",
    "sns.boxplot(col)\n",
    "plt.title(col_name+' boxplot')\n",
    "plt.subplot(1,2,2)\n",
    "sns.distplot(col ,hist_kws={'edgecolor':'black'}, kde_kws={'linewidth': 3}, bins=100)\n",
    "plt.title(col_name+' histogram')\n",
    "plt.show()"
   ]
  },
  {
   "cell_type": "code",
   "execution_count": 415,
   "id": "0031dec4-2bd5-4d29-aa8a-bac68f9bc2e4",
   "metadata": {},
   "outputs": [
    {
     "data": {
      "text/plain": [
       "0.0    0.584628\n",
       "1.0    0.415372\n",
       "Name: Gender, dtype: float64"
      ]
     },
     "execution_count": 415,
     "metadata": {},
     "output_type": "execute_result"
    }
   ],
   "source": [
    "df_gp['Gender'].value_counts(normalize=True)"
   ]
  },
  {
   "cell_type": "code",
   "execution_count": 416,
   "id": "2a95116a-03b9-41f1-a307-117222a57586",
   "metadata": {},
   "outputs": [
    {
     "data": {
      "image/png": "[encoded data removed]",
      "text/plain": [
       "<Figure size 1080x360 with 1 Axes>"
      ]
     },
     "metadata": {
      "needs_background": "light"
     },
     "output_type": "display_data"
    }
   ],
   "source": [
    "col = df_gp['Gender']\n",
    "col_name = 'Gender'\n",
    "sns.countplot(col)\n",
    "plt.title(col_name)\n",
    "plt.show()"
   ]
  },
  {
   "cell_type": "code",
   "execution_count": 417,
   "id": "d039f145-d85d-4024-9758-deb3789fd73f",
   "metadata": {},
   "outputs": [
    {
     "data": {
      "image/png": "[encoded data removed]",
      "text/plain": [
       "<Figure size 1080x360 with 1 Axes>"
      ]
     },
     "metadata": {
      "needs_background": "light"
     },
     "output_type": "display_data"
    }
   ],
   "source": [
    "col = df_gp['City']\n",
    "col_name = 'City'\n",
    "sns.countplot(col)\n",
    "plt.title(col_name)\n",
    "plt.show()"
   ]
  },
  {
   "cell_type": "code",
   "execution_count": 418,
   "id": "c069749f-fd85-4dba-ba8d-d82e4bbc8eb6",
   "metadata": {},
   "outputs": [
    {
     "data": {
      "text/plain": [
       "2    802\n",
       "1    795\n",
       "0    784\n",
       "Name: Education_Level, dtype: int64"
      ]
     },
     "execution_count": 418,
     "metadata": {},
     "output_type": "execute_result"
    }
   ],
   "source": [
    "df_gp['Education_Level'].value_counts()"
   ]
  },
  {
   "cell_type": "code",
   "execution_count": 419,
   "id": "aab35134-a911-41c9-9567-e76f5033f045",
   "metadata": {},
   "outputs": [
    {
     "data": {
      "image/png": "[encoded data removed]",
      "text/plain": [
       "<Figure size 1080x360 with 1 Axes>"
      ]
     },
     "metadata": {
      "needs_background": "light"
     },
     "output_type": "display_data"
    }
   ],
   "source": [
    "col = df_gp['Education_Level']\n",
    "col_name = 'Education_Level'\n",
    "sns.countplot(col)\n",
    "plt.title(col_name)\n",
    "plt.show()"
   ]
  },
  {
   "cell_type": "raw",
   "id": "08bb82ce-c7f7-4e6e-ae4f-04ff90550c20",
   "metadata": {},
   "source": []
  },
  {
   "cell_type": "code",
   "execution_count": 420,
   "id": "0a7deb08-8b4d-48d1-ab45-c79729df0dfe",
   "metadata": {},
   "outputs": [
    {
     "data": {
      "image/png": "[encoded data removed]",
      "text/plain": [
       "<Figure size 1080x360 with 1 Axes>"
      ]
     },
     "metadata": {
      "needs_background": "light"
     },
     "output_type": "display_data"
    }
   ],
   "source": [
    "col = df_gp['Quarterly Rating']\n",
    "col_name = 'Quarterly Rating'\n",
    "sns.countplot(col)\n",
    "plt.title(col_name)\n",
    "plt.show()"
   ]
  },
  {
   "cell_type": "code",
   "execution_count": 421,
   "id": "08c32046-bb2a-49ad-a2f2-bc8e482debd4",
   "metadata": {},
   "outputs": [
    {
     "data": {
      "text/plain": [
       "1    0.678706\n",
       "0    0.321294\n",
       "Name: target, dtype: float64"
      ]
     },
     "execution_count": 421,
     "metadata": {},
     "output_type": "execute_result"
    }
   ],
   "source": [
    "df_gp['target'].value_counts(normalize=True)"
   ]
  },
  {
   "cell_type": "code",
   "execution_count": 422,
   "id": "7920d85f-f788-418e-bd68-8a7b59a2c222",
   "metadata": {},
   "outputs": [
    {
     "data": {
      "image/png": "[encoded data removed]",
      "text/plain": [
       "<Figure size 1080x360 with 1 Axes>"
      ]
     },
     "metadata": {},
     "output_type": "display_data"
    }
   ],
   "source": [
    "col = df_gp['target']\n",
    "col_name = 'target'\n",
    "plt.pie(col.value_counts(), autopct='%1.1f%%', labels=col.value_counts().index)\n",
    "plt.title(col_name)\n",
    "plt.show()"
   ]
  },
  {
   "cell_type": "code",
   "execution_count": 423,
   "id": "8b662e1f-9961-499a-adc2-9125b3057a57",
   "metadata": {},
   "outputs": [
    {
     "data": {
      "image/png": "[encoded data removed]",
      "text/plain": [
       "<Figure size 1080x360 with 1 Axes>"
      ]
     },
     "metadata": {
      "needs_background": "light"
     },
     "output_type": "display_data"
    }
   ],
   "source": [
    "col = df_gp['joiningMonth']\n",
    "col_name = 'joiningMonth'\n",
    "sns.countplot(col)\n",
    "plt.title(col_name)\n",
    "plt.show()"
   ]
  },
  {
   "cell_type": "markdown",
   "id": "64d79c7f-335c-4acf-b5aa-22dc5eed7d2b",
   "metadata": {},
   "source": [
    "#### <span style='color:red'>Observations</span>"
   ]
  },
  {
   "cell_type": "markdown",
   "id": "11e44a02-d1fb-48b4-958f-ce8bf4204987",
   "metadata": {},
   "source": [
    "1. Age is following bell shape curve with some outliers in right tail.\n",
    "2. Income is also following almost bell shape curved where median is around 50k.\n",
    "3. Total business value is showing a very long right tail with some signs of outliers.\n",
    "4. Gender is in 58-42 ratio.\n",
    "5. C20 city is on top.\n",
    "6. All education levels are with same ratio.\n",
    "7. Most of the drivers got rating 1.\n",
    "8. 68% drivers left the company.\n",
    "9. Most of the drivers joined in July month."
   ]
  },
  {
   "cell_type": "markdown",
   "id": "ecf6c6ff-0094-4270-9c71-27d011bc2afb",
   "metadata": {},
   "source": [
    "### Bivariate anaylysis"
   ]
  },
  {
   "cell_type": "code",
   "execution_count": 424,
   "id": "f6e55e88-d89d-4007-8049-ec0aa1ed2936",
   "metadata": {},
   "outputs": [
    {
     "data": {
      "image/png": "[encoded data removed]",
      "text/plain": [
       "<Figure size 1080x360 with 1 Axes>"
      ]
     },
     "metadata": {
      "needs_background": "light"
     },
     "output_type": "display_data"
    }
   ],
   "source": [
    "sns.boxplot(y=df_gp['Income'], x=df_gp['target'])\n",
    "plt.show()"
   ]
  },
  {
   "cell_type": "code",
   "execution_count": 425,
   "id": "8d2fdbc1-472e-464e-a8d5-2446048c92dd",
   "metadata": {},
   "outputs": [
    {
     "data": {
      "image/png": "[encoded data removed]",
      "text/plain": [
       "<Figure size 1080x360 with 1 Axes>"
      ]
     },
     "metadata": {
      "needs_background": "light"
     },
     "output_type": "display_data"
    }
   ],
   "source": [
    "sns.boxplot(y=df_gp['Total Business Value'], x=df_gp['target'])\n",
    "plt.show()"
   ]
  },
  {
   "cell_type": "code",
   "execution_count": 426,
   "id": "925e9d9a-4a8f-4a9b-bd37-9b5f8e6c690b",
   "metadata": {},
   "outputs": [
    {
     "data": {
      "image/png": "[encoded data removed]",
      "text/plain": [
       "<Figure size 1080x360 with 1 Axes>"
      ]
     },
     "metadata": {
      "needs_background": "light"
     },
     "output_type": "display_data"
    }
   ],
   "source": [
    "sns.boxplot(y=df_gp['Age'], x=df_gp['target'])\n",
    "plt.show()"
   ]
  },
  {
   "cell_type": "code",
   "execution_count": 427,
   "id": "6a3aa438-373d-4af3-b064-8d6b0813be42",
   "metadata": {},
   "outputs": [
    {
     "data": {
      "image/png": "[encoded data removed]",
      "text/plain": [
       "<Figure size 1080x360 with 1 Axes>"
      ]
     },
     "metadata": {
      "needs_background": "light"
     },
     "output_type": "display_data"
    }
   ],
   "source": [
    "sns.scatterplot(x=df_gp['Income'], y=df_gp['Total Business Value'], hue=df_gp['target'])\n",
    "plt.show()"
   ]
  },
  {
   "cell_type": "code",
   "execution_count": 428,
   "id": "b1b87431-cbbb-4a21-b84d-caa6974c2502",
   "metadata": {},
   "outputs": [
    {
     "data": {
      "image/png": "[encoded data removed]",
      "text/plain": [
       "<Figure size 1080x360 with 1 Axes>"
      ]
     },
     "metadata": {
      "needs_background": "light"
     },
     "output_type": "display_data"
    }
   ],
   "source": [
    "sns.countplot(df_gp['joiningMonth'], hue=df_gp['target'])\n",
    "plt.show()"
   ]
  },
  {
   "cell_type": "code",
   "execution_count": 429,
   "id": "816e09b2-bd33-4ed2-a236-bf761640508f",
   "metadata": {},
   "outputs": [
    {
     "data": {
      "image/png": "[encoded data removed]",
      "text/plain": [
       "<Figure size 1080x360 with 1 Axes>"
      ]
     },
     "metadata": {
      "needs_background": "light"
     },
     "output_type": "display_data"
    }
   ],
   "source": [
    "sns.countplot(df_gp['Quarterly Rating'], hue=df_gp['target'])\n",
    "plt.show()"
   ]
  },
  {
   "cell_type": "code",
   "execution_count": 430,
   "id": "cf716707-6f87-4cdb-ad66-b34d4e516cb9",
   "metadata": {},
   "outputs": [
    {
     "data": {
      "image/png": "[encoded data removed]",
      "text/plain": [
       "<Figure size 1080x360 with 1 Axes>"
      ]
     },
     "metadata": {
      "needs_background": "light"
     },
     "output_type": "display_data"
    }
   ],
   "source": [
    "sns.countplot(df_gp['City'], hue=df_gp['target'])\n",
    "plt.show()"
   ]
  },
  {
   "cell_type": "markdown",
   "id": "4e1ff425-b452-4056-b395-9c48b22555a2",
   "metadata": {},
   "source": [
    "#### <span style='color:red'>Observations</span>\n",
    "1. Income and total business value medians are less for who left the company.\n",
    "2. Age median is same for both categories.\n",
    "3. Most of the drivers left the company whose total business value is very less.\n",
    "4. Who got rating 3 and 4, are less towards on decision to left the company."
   ]
  },
  {
   "cell_type": "markdown",
   "id": "10c048b3-c6cf-411d-83e8-c74db1ab7c7a",
   "metadata": {},
   "source": [
    "### Encoding"
   ]
  },
  {
   "cell_type": "code",
   "execution_count": 431,
   "id": "de78f748-1c8f-4a55-b940-81babfb54b22",
   "metadata": {},
   "outputs": [],
   "source": [
    "from category_encoders import TargetEncoder\n",
    "\n",
    "te = TargetEncoder()\n",
    "df_gp['City'] = te.fit_transform(df_gp['City'], df_gp['target'])"
   ]
  },
  {
   "cell_type": "code",
   "execution_count": 432,
   "id": "91c17959-963f-49e6-aec6-a50fbcb2dae7",
   "metadata": {},
   "outputs": [],
   "source": [
    "for col in df_gp.columns:\n",
    "    df_gp[col] = df_gp[col].astype('float64')"
   ]
  },
  {
   "cell_type": "code",
   "execution_count": 433,
   "id": "dae5a570-09a9-4144-bb24-fb417a93c880",
   "metadata": {},
   "outputs": [
    {
     "data": {
      "text/html": [
       "<div>\n",
       "<style scoped>\n",
       "    .dataframe tbody tr th:only-of-type {\n",
       "        vertical-align: middle;\n",
       "    }\n",
       "\n",
       "    .dataframe tbody tr th {\n",
       "        vertical-align: top;\n",
       "    }\n",
       "\n",
       "    .dataframe thead th {\n",
       "        text-align: right;\n",
       "    }\n",
       "</style>\n",
       "<table border=\"1\" class=\"dataframe\">\n",
       "  <thead>\n",
       "    <tr style=\"text-align: right;\">\n",
       "      <th></th>\n",
       "      <th>Age</th>\n",
       "      <th>Gender</th>\n",
       "      <th>City</th>\n",
       "      <th>Education_Level</th>\n",
       "      <th>Income</th>\n",
       "      <th>Joining Designation</th>\n",
       "      <th>Grade</th>\n",
       "      <th>Total Business Value</th>\n",
       "      <th>Quarterly Rating</th>\n",
       "      <th>income_inc</th>\n",
       "      <th>quar_rating_inc</th>\n",
       "      <th>target</th>\n",
       "      <th>joiningMonth</th>\n",
       "      <th>joiningYear</th>\n",
       "    </tr>\n",
       "  </thead>\n",
       "  <tbody>\n",
       "    <tr>\n",
       "      <th>0</th>\n",
       "      <td>28.0</td>\n",
       "      <td>0.0</td>\n",
       "      <td>0.770270</td>\n",
       "      <td>2.0</td>\n",
       "      <td>57387.0</td>\n",
       "      <td>1.0</td>\n",
       "      <td>1.0</td>\n",
       "      <td>1715580.0</td>\n",
       "      <td>2.0</td>\n",
       "      <td>0.0</td>\n",
       "      <td>0.0</td>\n",
       "      <td>1.0</td>\n",
       "      <td>12.0</td>\n",
       "      <td>2018.0</td>\n",
       "    </tr>\n",
       "    <tr>\n",
       "      <th>1</th>\n",
       "      <td>31.0</td>\n",
       "      <td>0.0</td>\n",
       "      <td>0.684211</td>\n",
       "      <td>2.0</td>\n",
       "      <td>67016.0</td>\n",
       "      <td>2.0</td>\n",
       "      <td>2.0</td>\n",
       "      <td>0.0</td>\n",
       "      <td>1.0</td>\n",
       "      <td>0.0</td>\n",
       "      <td>0.0</td>\n",
       "      <td>0.0</td>\n",
       "      <td>11.0</td>\n",
       "      <td>2020.0</td>\n",
       "    </tr>\n",
       "    <tr>\n",
       "      <th>2</th>\n",
       "      <td>43.0</td>\n",
       "      <td>0.0</td>\n",
       "      <td>0.816901</td>\n",
       "      <td>2.0</td>\n",
       "      <td>65603.0</td>\n",
       "      <td>2.0</td>\n",
       "      <td>2.0</td>\n",
       "      <td>350000.0</td>\n",
       "      <td>1.0</td>\n",
       "      <td>0.0</td>\n",
       "      <td>0.0</td>\n",
       "      <td>1.0</td>\n",
       "      <td>12.0</td>\n",
       "      <td>2019.0</td>\n",
       "    </tr>\n",
       "    <tr>\n",
       "      <th>3</th>\n",
       "      <td>29.0</td>\n",
       "      <td>0.0</td>\n",
       "      <td>0.706667</td>\n",
       "      <td>0.0</td>\n",
       "      <td>46368.0</td>\n",
       "      <td>1.0</td>\n",
       "      <td>1.0</td>\n",
       "      <td>120360.0</td>\n",
       "      <td>1.0</td>\n",
       "      <td>0.0</td>\n",
       "      <td>0.0</td>\n",
       "      <td>1.0</td>\n",
       "      <td>1.0</td>\n",
       "      <td>2019.0</td>\n",
       "    </tr>\n",
       "    <tr>\n",
       "      <th>4</th>\n",
       "      <td>31.0</td>\n",
       "      <td>1.0</td>\n",
       "      <td>0.703125</td>\n",
       "      <td>1.0</td>\n",
       "      <td>78728.0</td>\n",
       "      <td>3.0</td>\n",
       "      <td>3.0</td>\n",
       "      <td>1265000.0</td>\n",
       "      <td>2.0</td>\n",
       "      <td>0.0</td>\n",
       "      <td>1.0</td>\n",
       "      <td>0.0</td>\n",
       "      <td>7.0</td>\n",
       "      <td>2020.0</td>\n",
       "    </tr>\n",
       "  </tbody>\n",
       "</table>\n",
       "</div>"
      ],
      "text/plain": [
       "    Age  Gender      City  Education_Level   Income  Joining Designation  \\\n",
       "0  28.0     0.0  0.770270              2.0  57387.0                  1.0   \n",
       "1  31.0     0.0  0.684211              2.0  67016.0                  2.0   \n",
       "2  43.0     0.0  0.816901              2.0  65603.0                  2.0   \n",
       "3  29.0     0.0  0.706667              0.0  46368.0                  1.0   \n",
       "4  31.0     1.0  0.703125              1.0  78728.0                  3.0   \n",
       "\n",
       "   Grade  Total Business Value  Quarterly Rating  income_inc  quar_rating_inc  \\\n",
       "0    1.0             1715580.0               2.0         0.0              0.0   \n",
       "1    2.0                   0.0               1.0         0.0              0.0   \n",
       "2    2.0              350000.0               1.0         0.0              0.0   \n",
       "3    1.0              120360.0               1.0         0.0              0.0   \n",
       "4    3.0             1265000.0               2.0         0.0              1.0   \n",
       "\n",
       "   target  joiningMonth  joiningYear  \n",
       "0     1.0          12.0       2018.0  \n",
       "1     0.0          11.0       2020.0  \n",
       "2     1.0          12.0       2019.0  \n",
       "3     1.0           1.0       2019.0  \n",
       "4     0.0           7.0       2020.0  "
      ]
     },
     "execution_count": 433,
     "metadata": {},
     "output_type": "execute_result"
    }
   ],
   "source": [
    "df_gp.head()"
   ]
  },
  {
   "cell_type": "markdown",
   "id": "716ce72b-4e4f-48e3-8173-ba1eedfd25cd",
   "metadata": {},
   "source": [
    "### Multivariate anaylsis"
   ]
  },
  {
   "cell_type": "code",
   "execution_count": 434,
   "id": "071b35d2-aa82-4f6d-89fd-07686bd5b2e3",
   "metadata": {},
   "outputs": [
    {
     "data": {
      "image/png": "[encoded data removed]",
      "text/plain": [
       "<Figure size 1080x360 with 2 Axes>"
      ]
     },
     "metadata": {
      "needs_background": "light"
     },
     "output_type": "display_data"
    }
   ],
   "source": [
    "sns.heatmap(df_gp.corr(), cmap='Blues', annot=True)\n",
    "plt.show()"
   ]
  },
  {
   "cell_type": "markdown",
   "id": "bba9ddab-78ec-491d-9283-fcc147be1291",
   "metadata": {},
   "source": [
    "#### <span style='color:red'>Observations</span>"
   ]
  },
  {
   "cell_type": "markdown",
   "id": "6b8e8edb-1b0a-4935-9044-2377e8ba7640",
   "metadata": {},
   "source": [
    "1. Grade-Income are highly correlated with each other.\n",
    "2. Grade - joining designation are highly correlated with each other.\n",
    "3. Joining year is not much relevant for target."
   ]
  },
  {
   "cell_type": "markdown",
   "id": "5355c6c7-b006-4f22-b1bb-2f976e761bf1",
   "metadata": {},
   "source": [
    "### Model Training"
   ]
  },
  {
   "cell_type": "markdown",
   "id": "096efc89-0070-4061-a5a9-2dccb4d73d4e",
   "metadata": {
    "tags": []
   },
   "source": [
    "### Classification metric\n",
    "- Precision: In all predicted drivers , most of them will leave the company.\n",
    "- Recall: In all actual drivers, most of them have actually left the company.\n",
    "\n",
    "`In this case both precision and recall matter but slightly recall is more important compare to precision.`<br>\n",
    "`If we are getting false positive thats fine but we cant lose out actual drivers who left the company. We can go with f1 score as metric.`"
   ]
  },
  {
   "cell_type": "markdown",
   "id": "6b1c6bfb-1ec5-4cee-a85e-c305607e2da9",
   "metadata": {},
   "source": [
    "### Imbalanced Data\n"
   ]
  },
  {
   "cell_type": "code",
   "execution_count": 435,
   "id": "ab29e8ed-36e4-4e46-a92d-74319be68e7a",
   "metadata": {},
   "outputs": [
    {
     "data": {
      "text/plain": [
       "1.0    0.678706\n",
       "0.0    0.321294\n",
       "Name: target, dtype: float64"
      ]
     },
     "execution_count": 435,
     "metadata": {},
     "output_type": "execute_result"
    }
   ],
   "source": [
    "df_gp['target'].value_counts(normalize=True)"
   ]
  },
  {
   "cell_type": "markdown",
   "id": "cc8c5dfe-8455-49ec-8885-dca1edbfeb80",
   "metadata": {},
   "source": [
    "- Target variable is not balanced its in 2:1 ratio.\n",
    "- We can use class weights to make it balanced while model training."
   ]
  },
  {
   "cell_type": "markdown",
   "id": "8b01fcda-07ee-4bcf-84cd-32e125c5728d",
   "metadata": {},
   "source": [
    "#### <span style='color:green'>Ensemble - Bagging - Random forest</span>"
   ]
  },
  {
   "cell_type": "code",
   "execution_count": 436,
   "id": "3e91b236-3d76-4701-9f72-6c1831bb9607",
   "metadata": {},
   "outputs": [],
   "source": [
    "y = df_gp['target']\n",
    "X = df_gp.drop('target', axis=1)"
   ]
  },
  {
   "cell_type": "markdown",
   "id": "439ea2f0-a6f5-467a-a5d2-9174197723d4",
   "metadata": {},
   "source": [
    "### Train-Test Dataset"
   ]
  },
  {
   "cell_type": "code",
   "execution_count": 437,
   "id": "75f05b42-5773-4477-85d1-9d1c0e692a9b",
   "metadata": {},
   "outputs": [],
   "source": [
    "#train test split\n",
    "X_train, X_test, y_train, y_test = train_test_split(X, y, test_size=0.3, random_state=21)"
   ]
  },
  {
   "cell_type": "markdown",
   "id": "48566730-e15a-41de-a712-8ec95628b2fa",
   "metadata": {},
   "source": [
    "### Standardization"
   ]
  },
  {
   "cell_type": "code",
   "execution_count": 438,
   "id": "4699d6d6-d630-439a-a224-2ecb9cc7c521",
   "metadata": {},
   "outputs": [
    {
     "data": {
      "text/html": [
       "<div>\n",
       "<style scoped>\n",
       "    .dataframe tbody tr th:only-of-type {\n",
       "        vertical-align: middle;\n",
       "    }\n",
       "\n",
       "    .dataframe tbody tr th {\n",
       "        vertical-align: top;\n",
       "    }\n",
       "\n",
       "    .dataframe thead th {\n",
       "        text-align: right;\n",
       "    }\n",
       "</style>\n",
       "<table border=\"1\" class=\"dataframe\">\n",
       "  <thead>\n",
       "    <tr style=\"text-align: right;\">\n",
       "      <th></th>\n",
       "      <th>Age</th>\n",
       "      <th>Gender</th>\n",
       "      <th>City</th>\n",
       "      <th>Education_Level</th>\n",
       "      <th>Income</th>\n",
       "      <th>Joining Designation</th>\n",
       "      <th>Grade</th>\n",
       "      <th>Total Business Value</th>\n",
       "      <th>Quarterly Rating</th>\n",
       "      <th>income_inc</th>\n",
       "      <th>quar_rating_inc</th>\n",
       "      <th>joiningMonth</th>\n",
       "      <th>joiningYear</th>\n",
       "    </tr>\n",
       "  </thead>\n",
       "  <tbody>\n",
       "    <tr>\n",
       "      <th>344</th>\n",
       "      <td>1.187355</td>\n",
       "      <td>1.184922</td>\n",
       "      <td>2.082896</td>\n",
       "      <td>-0.012542</td>\n",
       "      <td>-0.022811</td>\n",
       "      <td>-0.946571</td>\n",
       "      <td>-0.087106</td>\n",
       "      <td>1.316151</td>\n",
       "      <td>0.527069</td>\n",
       "      <td>-0.135416</td>\n",
       "      <td>-0.575964</td>\n",
       "      <td>-0.749798</td>\n",
       "      <td>-1.571238</td>\n",
       "    </tr>\n",
       "    <tr>\n",
       "      <th>1615</th>\n",
       "      <td>-1.301698</td>\n",
       "      <td>-0.843937</td>\n",
       "      <td>0.623015</td>\n",
       "      <td>1.216549</td>\n",
       "      <td>-0.883623</td>\n",
       "      <td>-0.946571</td>\n",
       "      <td>-1.138687</td>\n",
       "      <td>-0.506421</td>\n",
       "      <td>-0.607423</td>\n",
       "      <td>-0.135416</td>\n",
       "      <td>-0.575964</td>\n",
       "      <td>-0.431377</td>\n",
       "      <td>0.930728</td>\n",
       "    </tr>\n",
       "    <tr>\n",
       "      <th>992</th>\n",
       "      <td>-0.803887</td>\n",
       "      <td>-0.843937</td>\n",
       "      <td>1.383887</td>\n",
       "      <td>-1.241632</td>\n",
       "      <td>-1.264215</td>\n",
       "      <td>-0.946571</td>\n",
       "      <td>-0.087106</td>\n",
       "      <td>-0.271868</td>\n",
       "      <td>0.527069</td>\n",
       "      <td>-0.135416</td>\n",
       "      <td>1.736219</td>\n",
       "      <td>0.205463</td>\n",
       "      <td>-0.945746</td>\n",
       "    </tr>\n",
       "    <tr>\n",
       "      <th>2097</th>\n",
       "      <td>-0.306077</td>\n",
       "      <td>1.184922</td>\n",
       "      <td>0.430459</td>\n",
       "      <td>1.216549</td>\n",
       "      <td>0.948320</td>\n",
       "      <td>0.223301</td>\n",
       "      <td>-0.087106</td>\n",
       "      <td>-0.476226</td>\n",
       "      <td>-0.607423</td>\n",
       "      <td>-0.135416</td>\n",
       "      <td>-0.575964</td>\n",
       "      <td>1.479145</td>\n",
       "      <td>0.305237</td>\n",
       "    </tr>\n",
       "    <tr>\n",
       "      <th>2244</th>\n",
       "      <td>-1.467635</td>\n",
       "      <td>1.184922</td>\n",
       "      <td>-1.054643</td>\n",
       "      <td>-1.241632</td>\n",
       "      <td>-1.575726</td>\n",
       "      <td>-0.946571</td>\n",
       "      <td>-1.138687</td>\n",
       "      <td>-0.506421</td>\n",
       "      <td>-0.607423</td>\n",
       "      <td>-0.135416</td>\n",
       "      <td>-0.575964</td>\n",
       "      <td>-1.068218</td>\n",
       "      <td>0.930728</td>\n",
       "    </tr>\n",
       "  </tbody>\n",
       "</table>\n",
       "</div>"
      ],
      "text/plain": [
       "           Age    Gender      City  Education_Level    Income  \\\n",
       "344   1.187355  1.184922  2.082896        -0.012542 -0.022811   \n",
       "1615 -1.301698 -0.843937  0.623015         1.216549 -0.883623   \n",
       "992  -0.803887 -0.843937  1.383887        -1.241632 -1.264215   \n",
       "2097 -0.306077  1.184922  0.430459         1.216549  0.948320   \n",
       "2244 -1.467635  1.184922 -1.054643        -1.241632 -1.575726   \n",
       "\n",
       "      Joining Designation     Grade  Total Business Value  Quarterly Rating  \\\n",
       "344             -0.946571 -0.087106              1.316151          0.527069   \n",
       "1615            -0.946571 -1.138687             -0.506421         -0.607423   \n",
       "992             -0.946571 -0.087106             -0.271868          0.527069   \n",
       "2097             0.223301 -0.087106             -0.476226         -0.607423   \n",
       "2244            -0.946571 -1.138687             -0.506421         -0.607423   \n",
       "\n",
       "      income_inc  quar_rating_inc  joiningMonth  joiningYear  \n",
       "344    -0.135416        -0.575964     -0.749798    -1.571238  \n",
       "1615   -0.135416        -0.575964     -0.431377     0.930728  \n",
       "992    -0.135416         1.736219      0.205463    -0.945746  \n",
       "2097   -0.135416        -0.575964      1.479145     0.305237  \n",
       "2244   -0.135416        -0.575964     -1.068218     0.930728  "
      ]
     },
     "execution_count": 438,
     "metadata": {},
     "output_type": "execute_result"
    }
   ],
   "source": [
    "scaler = StandardScaler()\n",
    "X_train[X_train.columns] = scaler.fit_transform(X_train[X_train.columns])\n",
    "X_test[X_test.columns] = scaler.transform(X_test[X_test.columns])\n",
    "X_train.head()"
   ]
  },
  {
   "cell_type": "code",
   "execution_count": 439,
   "id": "fe735f19-4992-4d74-9f7b-558a412bd41f",
   "metadata": {},
   "outputs": [],
   "source": [
    "def checkVIF(X):\n",
    "    vif = pd.DataFrame()\n",
    "    vif['Features'] = X.columns\n",
    "    vif['VIF'] = [variance_inflation_factor(X.values, i) for i in range(X.shape[1])]\n",
    "    vif['VIF'] = round(vif['VIF'], 2)\n",
    "    vif = vif.sort_values(by = \"VIF\", ascending = False)\n",
    "    return(vif)"
   ]
  },
  {
   "cell_type": "code",
   "execution_count": 440,
   "id": "7e2858ce-5899-457e-9a10-2fe91c2a530e",
   "metadata": {},
   "outputs": [],
   "source": [
    "def get_cv_res(estimator, X_train, y_train):\n",
    "    cv_results = cross_validate(estimator, X_train, y_train, cv=5, scoring='f1', return_train_score=True, n_jobs=-1)\n",
    "    print(f\"Train score: {cv_results['train_score'].mean()*100}, \\nVal score: {cv_results['test_score'].mean()*100}\") "
   ]
  },
  {
   "cell_type": "code",
   "execution_count": 441,
   "id": "8458e25f-cf93-4cfb-9102-a1defc74f831",
   "metadata": {},
   "outputs": [],
   "source": [
    "import time\n",
    "def get_gridsearch_res(estimator, X_train, y_train, params):\n",
    "    \"\"\"\n",
    "    returns:\n",
    "    best_estimator, cv_results_df\n",
    "    \"\"\"\n",
    "    stime = time.time()\n",
    "    grid_res = GridSearchCV(estimator, params, cv=3, return_train_score=True, n_jobs=-1, verbose=1, scoring='f1')\n",
    "    grid_res.fit(X_train, y_train)\n",
    "    etime = time.time()\n",
    "    \n",
    "    print(f'Grid search time: {etime-stime}')\n",
    "    print(f'best score: {grid_res.best_score_}')\n",
    "    print(f'best params: {grid_res.best_params_}')\n",
    "    # print(pd.DataFrame(grid_res.cv_results_).sort_values('rank_test_score')[:5])\n",
    "    return grid_res.best_estimator_, pd.DataFrame(grid_res.cv_results_).sort_values('rank_test_score')"
   ]
  },
  {
   "cell_type": "code",
   "execution_count": 442,
   "id": "acc9bf28-494e-458d-9f6c-50d6263f76d3",
   "metadata": {},
   "outputs": [],
   "source": [
    "rfc = RandomForestClassifier(class_weight='balanced', n_jobs=-1)"
   ]
  },
  {
   "cell_type": "code",
   "execution_count": 443,
   "id": "6be269dc-f112-40a1-b200-180101f1de73",
   "metadata": {},
   "outputs": [
    {
     "name": "stdout",
     "output_type": "stream",
     "text": [
      "Train score: 100.0, \n",
      "Val score: 92.79291218585074\n"
     ]
    }
   ],
   "source": [
    "get_cv_res(rfc, X_train, y_train)"
   ]
  },
  {
   "cell_type": "markdown",
   "id": "cb8b01ae-6c08-4a87-bea3-a285524d3320",
   "metadata": {},
   "source": [
    "`There is large difference between train and test accuracy, it showed there is high variance as overfit`<br>\n",
    "`Lets do hyperparameter training to reduce variance`"
   ]
  },
  {
   "cell_type": "markdown",
   "id": "a20d2f8b-dbaa-4c30-905c-6029fc17e773",
   "metadata": {},
   "source": [
    "### VIF"
   ]
  },
  {
   "cell_type": "code",
   "execution_count": 444,
   "id": "c5c4abcf-fa0a-4898-aa2a-9b7ad61fb77e",
   "metadata": {},
   "outputs": [
    {
     "data": {
      "text/html": [
       "<div>\n",
       "<style scoped>\n",
       "    .dataframe tbody tr th:only-of-type {\n",
       "        vertical-align: middle;\n",
       "    }\n",
       "\n",
       "    .dataframe tbody tr th {\n",
       "        vertical-align: top;\n",
       "    }\n",
       "\n",
       "    .dataframe thead th {\n",
       "        text-align: right;\n",
       "    }\n",
       "</style>\n",
       "<table border=\"1\" class=\"dataframe\">\n",
       "  <thead>\n",
       "    <tr style=\"text-align: right;\">\n",
       "      <th></th>\n",
       "      <th>Features</th>\n",
       "      <th>VIF</th>\n",
       "    </tr>\n",
       "  </thead>\n",
       "  <tbody>\n",
       "    <tr>\n",
       "      <th>12</th>\n",
       "      <td>joiningYear</td>\n",
       "      <td>161.26</td>\n",
       "    </tr>\n",
       "    <tr>\n",
       "      <th>2</th>\n",
       "      <td>City</td>\n",
       "      <td>109.09</td>\n",
       "    </tr>\n",
       "    <tr>\n",
       "      <th>0</th>\n",
       "      <td>Age</td>\n",
       "      <td>36.94</td>\n",
       "    </tr>\n",
       "    <tr>\n",
       "      <th>6</th>\n",
       "      <td>Grade</td>\n",
       "      <td>31.05</td>\n",
       "    </tr>\n",
       "    <tr>\n",
       "      <th>5</th>\n",
       "      <td>Joining Designation</td>\n",
       "      <td>18.80</td>\n",
       "    </tr>\n",
       "    <tr>\n",
       "      <th>8</th>\n",
       "      <td>Quarterly Rating</td>\n",
       "      <td>15.51</td>\n",
       "    </tr>\n",
       "    <tr>\n",
       "      <th>4</th>\n",
       "      <td>Income</td>\n",
       "      <td>13.11</td>\n",
       "    </tr>\n",
       "    <tr>\n",
       "      <th>11</th>\n",
       "      <td>joiningMonth</td>\n",
       "      <td>6.51</td>\n",
       "    </tr>\n",
       "    <tr>\n",
       "      <th>10</th>\n",
       "      <td>quar_rating_inc</td>\n",
       "      <td>4.03</td>\n",
       "    </tr>\n",
       "    <tr>\n",
       "      <th>7</th>\n",
       "      <td>Total Business Value</td>\n",
       "      <td>3.46</td>\n",
       "    </tr>\n",
       "    <tr>\n",
       "      <th>3</th>\n",
       "      <td>Education_Level</td>\n",
       "      <td>2.67</td>\n",
       "    </tr>\n",
       "    <tr>\n",
       "      <th>1</th>\n",
       "      <td>Gender</td>\n",
       "      <td>1.72</td>\n",
       "    </tr>\n",
       "    <tr>\n",
       "      <th>9</th>\n",
       "      <td>income_inc</td>\n",
       "      <td>1.27</td>\n",
       "    </tr>\n",
       "  </tbody>\n",
       "</table>\n",
       "</div>"
      ],
      "text/plain": [
       "                Features     VIF\n",
       "12           joiningYear  161.26\n",
       "2                   City  109.09\n",
       "0                    Age   36.94\n",
       "6                  Grade   31.05\n",
       "5    Joining Designation   18.80\n",
       "8       Quarterly Rating   15.51\n",
       "4                 Income   13.11\n",
       "11          joiningMonth    6.51\n",
       "10       quar_rating_inc    4.03\n",
       "7   Total Business Value    3.46\n",
       "3        Education_Level    2.67\n",
       "1                 Gender    1.72\n",
       "9             income_inc    1.27"
      ]
     },
     "execution_count": 444,
     "metadata": {},
     "output_type": "execute_result"
    }
   ],
   "source": [
    "checkVIF(X)"
   ]
  },
  {
   "cell_type": "code",
   "execution_count": 445,
   "id": "0c618a97-c6ba-4b71-a9b9-64c7acbaecf5",
   "metadata": {},
   "outputs": [
    {
     "name": "stdout",
     "output_type": "stream",
     "text": [
      "Train score: 100.0, \n",
      "Val score: 85.90810464588701\n"
     ]
    }
   ],
   "source": [
    "get_cv_res(rfc, X_train.drop(['joiningYear', 'City', 'Grade', 'Age'], axis=1), y_train)"
   ]
  },
  {
   "cell_type": "markdown",
   "id": "8c8f6fc4-f820-4c83-af8e-917f7408c090",
   "metadata": {},
   "source": [
    "`Val Accuracy reduced after removing high VIF scores features.`"
   ]
  },
  {
   "cell_type": "markdown",
   "id": "ed6efa02-4c18-4772-9085-2f5917a799f1",
   "metadata": {},
   "source": [
    "### Gridsearch CV"
   ]
  },
  {
   "cell_type": "code",
   "execution_count": 446,
   "id": "2fd78cf9-87db-40bc-af07-807d483b24bf",
   "metadata": {},
   "outputs": [],
   "source": [
    "rf_params = {'n_estimators':[100,150,200,250], 'max_depth':[6,7,8,9,10], 'min_samples_split':[5,8,10], 'ccp_alpha':[0, 0.5]}"
   ]
  },
  {
   "cell_type": "code",
   "execution_count": 447,
   "id": "d8689af7-64cb-4788-baeb-6946f5c7c1c9",
   "metadata": {},
   "outputs": [
    {
     "name": "stdout",
     "output_type": "stream",
     "text": [
      "Fitting 3 folds for each of 120 candidates, totalling 360 fits\n",
      "Grid search time: 33.630316972732544\n",
      "best score: 0.9295265486961862\n",
      "best params: {'ccp_alpha': 0, 'max_depth': 9, 'min_samples_split': 5, 'n_estimators': 100}\n"
     ]
    },
    {
     "data": {
      "text/html": [
       "<div>\n",
       "<style scoped>\n",
       "    .dataframe tbody tr th:only-of-type {\n",
       "        vertical-align: middle;\n",
       "    }\n",
       "\n",
       "    .dataframe tbody tr th {\n",
       "        vertical-align: top;\n",
       "    }\n",
       "\n",
       "    .dataframe thead th {\n",
       "        text-align: right;\n",
       "    }\n",
       "</style>\n",
       "<table border=\"1\" class=\"dataframe\">\n",
       "  <thead>\n",
       "    <tr style=\"text-align: right;\">\n",
       "      <th></th>\n",
       "      <th>mean_fit_time</th>\n",
       "      <th>std_fit_time</th>\n",
       "      <th>mean_score_time</th>\n",
       "      <th>std_score_time</th>\n",
       "      <th>param_ccp_alpha</th>\n",
       "      <th>param_max_depth</th>\n",
       "      <th>param_min_samples_split</th>\n",
       "      <th>param_n_estimators</th>\n",
       "      <th>params</th>\n",
       "      <th>split0_test_score</th>\n",
       "      <th>split1_test_score</th>\n",
       "      <th>split2_test_score</th>\n",
       "      <th>mean_test_score</th>\n",
       "      <th>std_test_score</th>\n",
       "      <th>rank_test_score</th>\n",
       "      <th>split0_train_score</th>\n",
       "      <th>split1_train_score</th>\n",
       "      <th>split2_train_score</th>\n",
       "      <th>mean_train_score</th>\n",
       "      <th>std_train_score</th>\n",
       "    </tr>\n",
       "  </thead>\n",
       "  <tbody>\n",
       "    <tr>\n",
       "      <th>36</th>\n",
       "      <td>0.325829</td>\n",
       "      <td>0.107361</td>\n",
       "      <td>0.043922</td>\n",
       "      <td>0.017351</td>\n",
       "      <td>0</td>\n",
       "      <td>9</td>\n",
       "      <td>5</td>\n",
       "      <td>100</td>\n",
       "      <td>{'ccp_alpha': 0, 'max_depth': 9, 'min_samples_...</td>\n",
       "      <td>0.924101</td>\n",
       "      <td>0.938503</td>\n",
       "      <td>0.925976</td>\n",
       "      <td>0.929527</td>\n",
       "      <td>0.006393</td>\n",
       "      <td>1</td>\n",
       "      <td>0.977394</td>\n",
       "      <td>0.977985</td>\n",
       "      <td>0.979973</td>\n",
       "      <td>0.978451</td>\n",
       "      <td>0.001103</td>\n",
       "    </tr>\n",
       "    <tr>\n",
       "      <th>37</th>\n",
       "      <td>0.502150</td>\n",
       "      <td>0.072098</td>\n",
       "      <td>0.034600</td>\n",
       "      <td>0.011828</td>\n",
       "      <td>0</td>\n",
       "      <td>9</td>\n",
       "      <td>5</td>\n",
       "      <td>150</td>\n",
       "      <td>{'ccp_alpha': 0, 'max_depth': 9, 'min_samples_...</td>\n",
       "      <td>0.933155</td>\n",
       "      <td>0.929919</td>\n",
       "      <td>0.920378</td>\n",
       "      <td>0.927817</td>\n",
       "      <td>0.005424</td>\n",
       "      <td>2</td>\n",
       "      <td>0.980680</td>\n",
       "      <td>0.982036</td>\n",
       "      <td>0.977985</td>\n",
       "      <td>0.980234</td>\n",
       "      <td>0.001683</td>\n",
       "    </tr>\n",
       "    <tr>\n",
       "      <th>48</th>\n",
       "      <td>0.325354</td>\n",
       "      <td>0.013733</td>\n",
       "      <td>0.030793</td>\n",
       "      <td>0.005260</td>\n",
       "      <td>0</td>\n",
       "      <td>10</td>\n",
       "      <td>5</td>\n",
       "      <td>100</td>\n",
       "      <td>{'ccp_alpha': 0, 'max_depth': 10, 'min_samples...</td>\n",
       "      <td>0.932271</td>\n",
       "      <td>0.934579</td>\n",
       "      <td>0.916442</td>\n",
       "      <td>0.927764</td>\n",
       "      <td>0.008061</td>\n",
       "      <td>3</td>\n",
       "      <td>0.984656</td>\n",
       "      <td>0.984656</td>\n",
       "      <td>0.985333</td>\n",
       "      <td>0.984882</td>\n",
       "      <td>0.000319</td>\n",
       "    </tr>\n",
       "    <tr>\n",
       "      <th>55</th>\n",
       "      <td>0.898613</td>\n",
       "      <td>0.128610</td>\n",
       "      <td>0.048904</td>\n",
       "      <td>0.004947</td>\n",
       "      <td>0</td>\n",
       "      <td>10</td>\n",
       "      <td>8</td>\n",
       "      <td>250</td>\n",
       "      <td>{'ccp_alpha': 0, 'max_depth': 10, 'min_samples...</td>\n",
       "      <td>0.927807</td>\n",
       "      <td>0.938172</td>\n",
       "      <td>0.915761</td>\n",
       "      <td>0.927247</td>\n",
       "      <td>0.009158</td>\n",
       "      <td>4</td>\n",
       "      <td>0.975251</td>\n",
       "      <td>0.972539</td>\n",
       "      <td>0.970470</td>\n",
       "      <td>0.972753</td>\n",
       "      <td>0.001958</td>\n",
       "    </tr>\n",
       "    <tr>\n",
       "      <th>49</th>\n",
       "      <td>0.705906</td>\n",
       "      <td>0.036862</td>\n",
       "      <td>0.034017</td>\n",
       "      <td>0.003928</td>\n",
       "      <td>0</td>\n",
       "      <td>10</td>\n",
       "      <td>5</td>\n",
       "      <td>150</td>\n",
       "      <td>{'ccp_alpha': 0, 'max_depth': 10, 'min_samples...</td>\n",
       "      <td>0.929615</td>\n",
       "      <td>0.931727</td>\n",
       "      <td>0.916216</td>\n",
       "      <td>0.925853</td>\n",
       "      <td>0.006868</td>\n",
       "      <td>5</td>\n",
       "      <td>0.984677</td>\n",
       "      <td>0.985333</td>\n",
       "      <td>0.982012</td>\n",
       "      <td>0.984007</td>\n",
       "      <td>0.001436</td>\n",
       "    </tr>\n",
       "  </tbody>\n",
       "</table>\n",
       "</div>"
      ],
      "text/plain": [
       "    mean_fit_time  std_fit_time  mean_score_time  std_score_time  \\\n",
       "36       0.325829      0.107361         0.043922        0.017351   \n",
       "37       0.502150      0.072098         0.034600        0.011828   \n",
       "48       0.325354      0.013733         0.030793        0.005260   \n",
       "55       0.898613      0.128610         0.048904        0.004947   \n",
       "49       0.705906      0.036862         0.034017        0.003928   \n",
       "\n",
       "   param_ccp_alpha param_max_depth param_min_samples_split param_n_estimators  \\\n",
       "36               0               9                       5                100   \n",
       "37               0               9                       5                150   \n",
       "48               0              10                       5                100   \n",
       "55               0              10                       8                250   \n",
       "49               0              10                       5                150   \n",
       "\n",
       "                                               params  split0_test_score  \\\n",
       "36  {'ccp_alpha': 0, 'max_depth': 9, 'min_samples_...           0.924101   \n",
       "37  {'ccp_alpha': 0, 'max_depth': 9, 'min_samples_...           0.933155   \n",
       "48  {'ccp_alpha': 0, 'max_depth': 10, 'min_samples...           0.932271   \n",
       "55  {'ccp_alpha': 0, 'max_depth': 10, 'min_samples...           0.927807   \n",
       "49  {'ccp_alpha': 0, 'max_depth': 10, 'min_samples...           0.929615   \n",
       "\n",
       "    split1_test_score  split2_test_score  mean_test_score  std_test_score  \\\n",
       "36           0.938503           0.925976         0.929527        0.006393   \n",
       "37           0.929919           0.920378         0.927817        0.005424   \n",
       "48           0.934579           0.916442         0.927764        0.008061   \n",
       "55           0.938172           0.915761         0.927247        0.009158   \n",
       "49           0.931727           0.916216         0.925853        0.006868   \n",
       "\n",
       "    rank_test_score  split0_train_score  split1_train_score  \\\n",
       "36                1            0.977394            0.977985   \n",
       "37                2            0.980680            0.982036   \n",
       "48                3            0.984656            0.984656   \n",
       "55                4            0.975251            0.972539   \n",
       "49                5            0.984677            0.985333   \n",
       "\n",
       "    split2_train_score  mean_train_score  std_train_score  \n",
       "36            0.979973          0.978451         0.001103  \n",
       "37            0.977985          0.980234         0.001683  \n",
       "48            0.985333          0.984882         0.000319  \n",
       "55            0.970470          0.972753         0.001958  \n",
       "49            0.982012          0.984007         0.001436  "
      ]
     },
     "execution_count": 447,
     "metadata": {},
     "output_type": "execute_result"
    }
   ],
   "source": [
    "rfc_best_est, cv_res_df = get_gridsearch_res(rfc, X_train, y_train, rf_params)\n",
    "cv_res_df[:5]"
   ]
  },
  {
   "cell_type": "markdown",
   "id": "1481000f-62f0-4ef2-b2aa-860b30e6e8c9",
   "metadata": {},
   "source": [
    "`Still there is 5% accuracy difference bw train -test accuracies.`"
   ]
  },
  {
   "cell_type": "code",
   "execution_count": 448,
   "id": "7833a2a9-0fa9-4548-a482-d6b159f93a07",
   "metadata": {},
   "outputs": [
    {
     "name": "stdout",
     "output_type": "stream",
     "text": [
      "Train score:  0.9728768341485104\n",
      "Test score:  0.9125395152792413\n"
     ]
    }
   ],
   "source": [
    "y_train_pred = rfc_best_est.predict(X_train)\n",
    "y_test_pred = rfc_best_est.predict(X_test)\n",
    "\n",
    "print('Train score: ',f1_score(y_train, y_train_pred))\n",
    "print('Test score: ',f1_score(y_test, y_test_pred))"
   ]
  },
  {
   "cell_type": "markdown",
   "id": "33f455df-1421-461b-b8df-e9e676d7c410",
   "metadata": {},
   "source": [
    "`Model is overfitted as large gap between scores, lets try boosting algos.`"
   ]
  },
  {
   "cell_type": "markdown",
   "id": "f34f7b9c-afa6-4db4-b71e-0279ac578df9",
   "metadata": {},
   "source": [
    "#### <span style='color:green'>Ensemble - Boosting - GBDT</span>"
   ]
  },
  {
   "cell_type": "code",
   "execution_count": 449,
   "id": "c006c189-8663-4908-a584-5770dbabe043",
   "metadata": {},
   "outputs": [],
   "source": [
    "gbdt_clf = GradientBoostingClassifier()"
   ]
  },
  {
   "cell_type": "code",
   "execution_count": 450,
   "id": "50ed433f-475a-4590-a2af-c7152d90cebf",
   "metadata": {},
   "outputs": [
    {
     "name": "stdout",
     "output_type": "stream",
     "text": [
      "Train score: 96.70299307487677, \n",
      "Val score: 92.77799882862713\n"
     ]
    }
   ],
   "source": [
    "get_cv_res(gbdt_clf, X_train, y_train)"
   ]
  },
  {
   "cell_type": "markdown",
   "id": "3e11e849-cfb1-4e79-84f3-bddb781453f6",
   "metadata": {},
   "source": [
    "`There is only 4 % difference bw train-val scores, slightly overfit, lets do hyperparameter tuning.`"
   ]
  },
  {
   "cell_type": "code",
   "execution_count": 451,
   "id": "fa932941-bf24-465d-b211-744fddc62898",
   "metadata": {},
   "outputs": [],
   "source": [
    "gbdt_params = {'n_estimators':[50,100,150,200], 'learning_rate':[0.1,0.3,0.5], 'subsample':[0.3,0.5,1], \n",
    "               'min_samples_split':[2,5,10], 'max_depth':[3,4,5]}"
   ]
  },
  {
   "cell_type": "code",
   "execution_count": 452,
   "id": "889b970f-88f7-489b-adb6-befaebfc02fb",
   "metadata": {},
   "outputs": [
    {
     "name": "stdout",
     "output_type": "stream",
     "text": [
      "Fitting 3 folds for each of 324 candidates, totalling 972 fits\n",
      "Grid search time: 69.47872114181519\n",
      "best score: 0.9290918097961384\n",
      "best params: {'learning_rate': 0.1, 'max_depth': 3, 'min_samples_split': 10, 'n_estimators': 50, 'subsample': 1}\n"
     ]
    }
   ],
   "source": [
    "gbdt_best, gbdt_cv_res = get_gridsearch_res(gbdt_clf, X_train, y_train, gbdt_params)"
   ]
  },
  {
   "cell_type": "code",
   "execution_count": 453,
   "id": "cc79d80b-501f-4843-b99b-27962d07b567",
   "metadata": {},
   "outputs": [
    {
     "data": {
      "text/html": [
       "<div>\n",
       "<style scoped>\n",
       "    .dataframe tbody tr th:only-of-type {\n",
       "        vertical-align: middle;\n",
       "    }\n",
       "\n",
       "    .dataframe tbody tr th {\n",
       "        vertical-align: top;\n",
       "    }\n",
       "\n",
       "    .dataframe thead th {\n",
       "        text-align: right;\n",
       "    }\n",
       "</style>\n",
       "<table border=\"1\" class=\"dataframe\">\n",
       "  <thead>\n",
       "    <tr style=\"text-align: right;\">\n",
       "      <th></th>\n",
       "      <th>mean_fit_time</th>\n",
       "      <th>std_fit_time</th>\n",
       "      <th>mean_score_time</th>\n",
       "      <th>std_score_time</th>\n",
       "      <th>param_learning_rate</th>\n",
       "      <th>param_max_depth</th>\n",
       "      <th>param_min_samples_split</th>\n",
       "      <th>param_n_estimators</th>\n",
       "      <th>param_subsample</th>\n",
       "      <th>params</th>\n",
       "      <th>split0_test_score</th>\n",
       "      <th>split1_test_score</th>\n",
       "      <th>split2_test_score</th>\n",
       "      <th>mean_test_score</th>\n",
       "      <th>std_test_score</th>\n",
       "      <th>rank_test_score</th>\n",
       "      <th>split0_train_score</th>\n",
       "      <th>split1_train_score</th>\n",
       "      <th>split2_train_score</th>\n",
       "      <th>mean_train_score</th>\n",
       "      <th>std_train_score</th>\n",
       "    </tr>\n",
       "  </thead>\n",
       "  <tbody>\n",
       "    <tr>\n",
       "      <th>26</th>\n",
       "      <td>0.257601</td>\n",
       "      <td>0.010765</td>\n",
       "      <td>0.002088</td>\n",
       "      <td>0.000091</td>\n",
       "      <td>0.1</td>\n",
       "      <td>3</td>\n",
       "      <td>10</td>\n",
       "      <td>50</td>\n",
       "      <td>1</td>\n",
       "      <td>{'learning_rate': 0.1, 'max_depth': 3, 'min_sa...</td>\n",
       "      <td>0.933333</td>\n",
       "      <td>0.936170</td>\n",
       "      <td>0.917772</td>\n",
       "      <td>0.929092</td>\n",
       "      <td>0.008088</td>\n",
       "      <td>1</td>\n",
       "      <td>0.952507</td>\n",
       "      <td>0.949669</td>\n",
       "      <td>0.957950</td>\n",
       "      <td>0.953375</td>\n",
       "      <td>0.003436</td>\n",
       "    </tr>\n",
       "    <tr>\n",
       "      <th>10</th>\n",
       "      <td>0.471075</td>\n",
       "      <td>0.029317</td>\n",
       "      <td>0.003266</td>\n",
       "      <td>0.000075</td>\n",
       "      <td>0.1</td>\n",
       "      <td>3</td>\n",
       "      <td>2</td>\n",
       "      <td>200</td>\n",
       "      <td>0.5</td>\n",
       "      <td>{'learning_rate': 0.1, 'max_depth': 3, 'min_sa...</td>\n",
       "      <td>0.935611</td>\n",
       "      <td>0.936340</td>\n",
       "      <td>0.913747</td>\n",
       "      <td>0.928566</td>\n",
       "      <td>0.010483</td>\n",
       "      <td>2</td>\n",
       "      <td>0.988095</td>\n",
       "      <td>0.988111</td>\n",
       "      <td>0.993404</td>\n",
       "      <td>0.989870</td>\n",
       "      <td>0.002499</td>\n",
       "    </tr>\n",
       "    <tr>\n",
       "      <th>60</th>\n",
       "      <td>0.172698</td>\n",
       "      <td>0.049382</td>\n",
       "      <td>0.003307</td>\n",
       "      <td>0.001657</td>\n",
       "      <td>0.1</td>\n",
       "      <td>4</td>\n",
       "      <td>10</td>\n",
       "      <td>50</td>\n",
       "      <td>0.3</td>\n",
       "      <td>{'learning_rate': 0.1, 'max_depth': 4, 'min_sa...</td>\n",
       "      <td>0.940397</td>\n",
       "      <td>0.930851</td>\n",
       "      <td>0.914439</td>\n",
       "      <td>0.928562</td>\n",
       "      <td>0.010721</td>\n",
       "      <td>3</td>\n",
       "      <td>0.959103</td>\n",
       "      <td>0.962963</td>\n",
       "      <td>0.960849</td>\n",
       "      <td>0.960972</td>\n",
       "      <td>0.001578</td>\n",
       "    </tr>\n",
       "    <tr>\n",
       "      <th>40</th>\n",
       "      <td>0.277031</td>\n",
       "      <td>0.003800</td>\n",
       "      <td>0.002657</td>\n",
       "      <td>0.000029</td>\n",
       "      <td>0.1</td>\n",
       "      <td>4</td>\n",
       "      <td>2</td>\n",
       "      <td>100</td>\n",
       "      <td>0.5</td>\n",
       "      <td>{'learning_rate': 0.1, 'max_depth': 4, 'min_sa...</td>\n",
       "      <td>0.931398</td>\n",
       "      <td>0.933511</td>\n",
       "      <td>0.920000</td>\n",
       "      <td>0.928303</td>\n",
       "      <td>0.005934</td>\n",
       "      <td>4</td>\n",
       "      <td>0.988764</td>\n",
       "      <td>0.982202</td>\n",
       "      <td>0.990073</td>\n",
       "      <td>0.987013</td>\n",
       "      <td>0.003444</td>\n",
       "    </tr>\n",
       "    <tr>\n",
       "      <th>5</th>\n",
       "      <td>0.599589</td>\n",
       "      <td>0.049787</td>\n",
       "      <td>0.004130</td>\n",
       "      <td>0.001364</td>\n",
       "      <td>0.1</td>\n",
       "      <td>3</td>\n",
       "      <td>2</td>\n",
       "      <td>100</td>\n",
       "      <td>1</td>\n",
       "      <td>{'learning_rate': 0.1, 'max_depth': 3, 'min_sa...</td>\n",
       "      <td>0.931579</td>\n",
       "      <td>0.936340</td>\n",
       "      <td>0.916890</td>\n",
       "      <td>0.928270</td>\n",
       "      <td>0.008278</td>\n",
       "      <td>5</td>\n",
       "      <td>0.968379</td>\n",
       "      <td>0.969536</td>\n",
       "      <td>0.975674</td>\n",
       "      <td>0.971197</td>\n",
       "      <td>0.003201</td>\n",
       "    </tr>\n",
       "  </tbody>\n",
       "</table>\n",
       "</div>"
      ],
      "text/plain": [
       "    mean_fit_time  std_fit_time  mean_score_time  std_score_time  \\\n",
       "26       0.257601      0.010765         0.002088        0.000091   \n",
       "10       0.471075      0.029317         0.003266        0.000075   \n",
       "60       0.172698      0.049382         0.003307        0.001657   \n",
       "40       0.277031      0.003800         0.002657        0.000029   \n",
       "5        0.599589      0.049787         0.004130        0.001364   \n",
       "\n",
       "   param_learning_rate param_max_depth param_min_samples_split  \\\n",
       "26                 0.1               3                      10   \n",
       "10                 0.1               3                       2   \n",
       "60                 0.1               4                      10   \n",
       "40                 0.1               4                       2   \n",
       "5                  0.1               3                       2   \n",
       "\n",
       "   param_n_estimators param_subsample  \\\n",
       "26                 50               1   \n",
       "10                200             0.5   \n",
       "60                 50             0.3   \n",
       "40                100             0.5   \n",
       "5                 100               1   \n",
       "\n",
       "                                               params  split0_test_score  \\\n",
       "26  {'learning_rate': 0.1, 'max_depth': 3, 'min_sa...           0.933333   \n",
       "10  {'learning_rate': 0.1, 'max_depth': 3, 'min_sa...           0.935611   \n",
       "60  {'learning_rate': 0.1, 'max_depth': 4, 'min_sa...           0.940397   \n",
       "40  {'learning_rate': 0.1, 'max_depth': 4, 'min_sa...           0.931398   \n",
       "5   {'learning_rate': 0.1, 'max_depth': 3, 'min_sa...           0.931579   \n",
       "\n",
       "    split1_test_score  split2_test_score  mean_test_score  std_test_score  \\\n",
       "26           0.936170           0.917772         0.929092        0.008088   \n",
       "10           0.936340           0.913747         0.928566        0.010483   \n",
       "60           0.930851           0.914439         0.928562        0.010721   \n",
       "40           0.933511           0.920000         0.928303        0.005934   \n",
       "5            0.936340           0.916890         0.928270        0.008278   \n",
       "\n",
       "    rank_test_score  split0_train_score  split1_train_score  \\\n",
       "26                1            0.952507            0.949669   \n",
       "10                2            0.988095            0.988111   \n",
       "60                3            0.959103            0.962963   \n",
       "40                4            0.988764            0.982202   \n",
       "5                 5            0.968379            0.969536   \n",
       "\n",
       "    split2_train_score  mean_train_score  std_train_score  \n",
       "26            0.957950          0.953375         0.003436  \n",
       "10            0.993404          0.989870         0.002499  \n",
       "60            0.960849          0.960972         0.001578  \n",
       "40            0.990073          0.987013         0.003444  \n",
       "5             0.975674          0.971197         0.003201  "
      ]
     },
     "execution_count": 453,
     "metadata": {},
     "output_type": "execute_result"
    }
   ],
   "source": [
    "gbdt_cv_res.head()"
   ]
  },
  {
   "cell_type": "code",
   "execution_count": 454,
   "id": "6da8da45-090e-4002-be83-8798e756ff67",
   "metadata": {},
   "outputs": [
    {
     "name": "stdout",
     "output_type": "stream",
     "text": [
      "Train score:  0.9458388375165125\n",
      "Test score:  0.9219562955254942\n"
     ]
    }
   ],
   "source": [
    "y_train_pred = gbdt_best.predict(X_train)\n",
    "y_test_pred = gbdt_best.predict(X_test)\n",
    "\n",
    "print('Train score: ',f1_score(y_train, y_train_pred))\n",
    "print('Test score: ',f1_score(y_test, y_test_pred))"
   ]
  },
  {
   "cell_type": "markdown",
   "id": "f529e0fa-8d4a-4b15-b05a-5fb9896869f4",
   "metadata": {},
   "source": [
    "`Model is less overfitted comapre to RF but with less training f1 score.`"
   ]
  },
  {
   "cell_type": "code",
   "execution_count": 455,
   "id": "08401c82-c585-4b9f-8086-933613f3ffba",
   "metadata": {},
   "outputs": [
    {
     "data": {
      "text/html": [
       "<div>\n",
       "<style scoped>\n",
       "    .dataframe tbody tr th:only-of-type {\n",
       "        vertical-align: middle;\n",
       "    }\n",
       "\n",
       "    .dataframe tbody tr th {\n",
       "        vertical-align: top;\n",
       "    }\n",
       "\n",
       "    .dataframe thead th {\n",
       "        text-align: right;\n",
       "    }\n",
       "</style>\n",
       "<table border=\"1\" class=\"dataframe\">\n",
       "  <thead>\n",
       "    <tr style=\"text-align: right;\">\n",
       "      <th></th>\n",
       "      <th>Feature</th>\n",
       "      <th>Importance</th>\n",
       "    </tr>\n",
       "  </thead>\n",
       "  <tbody>\n",
       "    <tr>\n",
       "      <th>12</th>\n",
       "      <td>joiningYear</td>\n",
       "      <td>0.320497</td>\n",
       "    </tr>\n",
       "    <tr>\n",
       "      <th>7</th>\n",
       "      <td>Total Business Value</td>\n",
       "      <td>0.254249</td>\n",
       "    </tr>\n",
       "    <tr>\n",
       "      <th>11</th>\n",
       "      <td>joiningMonth</td>\n",
       "      <td>0.220008</td>\n",
       "    </tr>\n",
       "    <tr>\n",
       "      <th>8</th>\n",
       "      <td>Quarterly Rating</td>\n",
       "      <td>0.156477</td>\n",
       "    </tr>\n",
       "    <tr>\n",
       "      <th>2</th>\n",
       "      <td>City</td>\n",
       "      <td>0.015607</td>\n",
       "    </tr>\n",
       "    <tr>\n",
       "      <th>4</th>\n",
       "      <td>Income</td>\n",
       "      <td>0.013681</td>\n",
       "    </tr>\n",
       "    <tr>\n",
       "      <th>0</th>\n",
       "      <td>Age</td>\n",
       "      <td>0.008689</td>\n",
       "    </tr>\n",
       "    <tr>\n",
       "      <th>5</th>\n",
       "      <td>Joining Designation</td>\n",
       "      <td>0.005683</td>\n",
       "    </tr>\n",
       "    <tr>\n",
       "      <th>6</th>\n",
       "      <td>Grade</td>\n",
       "      <td>0.001994</td>\n",
       "    </tr>\n",
       "    <tr>\n",
       "      <th>1</th>\n",
       "      <td>Gender</td>\n",
       "      <td>0.001755</td>\n",
       "    </tr>\n",
       "    <tr>\n",
       "      <th>10</th>\n",
       "      <td>quar_rating_inc</td>\n",
       "      <td>0.000743</td>\n",
       "    </tr>\n",
       "    <tr>\n",
       "      <th>3</th>\n",
       "      <td>Education_Level</td>\n",
       "      <td>0.000617</td>\n",
       "    </tr>\n",
       "    <tr>\n",
       "      <th>9</th>\n",
       "      <td>income_inc</td>\n",
       "      <td>0.0</td>\n",
       "    </tr>\n",
       "  </tbody>\n",
       "</table>\n",
       "</div>"
      ],
      "text/plain": [
       "                 Feature Importance\n",
       "12           joiningYear   0.320497\n",
       "7   Total Business Value   0.254249\n",
       "11          joiningMonth   0.220008\n",
       "8       Quarterly Rating   0.156477\n",
       "2                   City   0.015607\n",
       "4                 Income   0.013681\n",
       "0                    Age   0.008689\n",
       "5    Joining Designation   0.005683\n",
       "6                  Grade   0.001994\n",
       "1                 Gender   0.001755\n",
       "10       quar_rating_inc   0.000743\n",
       "3        Education_Level   0.000617\n",
       "9             income_inc        0.0"
      ]
     },
     "execution_count": 455,
     "metadata": {},
     "output_type": "execute_result"
    }
   ],
   "source": [
    "pd.DataFrame(np.array([X_train.columns, gbdt_best.feature_importances_]).T, \n",
    "             columns=['Feature', 'Importance']).sort_values('Importance', ascending=False)"
   ]
  },
  {
   "cell_type": "code",
   "execution_count": 456,
   "id": "0d0ba7e3-7bd7-4fba-96e2-d10694b9072c",
   "metadata": {},
   "outputs": [
    {
     "data": {
      "text/plain": [
       "array([0.00868856, 0.00175513, 0.01560683, 0.00061672, 0.01368102,\n",
       "       0.00568336, 0.00199368, 0.25424909, 0.15647725, 0.        ,\n",
       "       0.00074305, 0.22000794, 0.32049738])"
      ]
     },
     "execution_count": 456,
     "metadata": {},
     "output_type": "execute_result"
    }
   ],
   "source": [
    "gbdt_best.feature_importances_"
   ]
  },
  {
   "cell_type": "markdown",
   "id": "9b21887e-6b30-4306-a240-95b32e956435",
   "metadata": {},
   "source": [
    "#### <span style='color:green'>Ensemble - Boosting - XGBoost</span>"
   ]
  },
  {
   "cell_type": "code",
   "execution_count": 457,
   "id": "49e40c41-764c-4e11-9da7-5b068800c5b8",
   "metadata": {},
   "outputs": [],
   "source": [
    "from xgboost import XGBClassifier"
   ]
  },
  {
   "cell_type": "code",
   "execution_count": 458,
   "id": "6e9a2c4d-f872-401e-8168-b76e65b4369b",
   "metadata": {},
   "outputs": [],
   "source": [
    "xgb_clf = XGBClassifier(n_jobs=-1, scale_pos_weight=2)"
   ]
  },
  {
   "cell_type": "code",
   "execution_count": 459,
   "id": "2b11967d-61bd-449f-91e4-d530dc8f7efa",
   "metadata": {},
   "outputs": [
    {
     "name": "stdout",
     "output_type": "stream",
     "text": [
      "Train score: 100.0, \n",
      "Val score: 92.50761374702158\n"
     ]
    }
   ],
   "source": [
    "get_cv_res(xgb_clf, X_train, y_train)"
   ]
  },
  {
   "cell_type": "code",
   "execution_count": 460,
   "id": "17a747f3-345d-43ba-b9e8-a948454fbfc6",
   "metadata": {},
   "outputs": [],
   "source": [
    "xg_params = {'n_estimators':[50,100,150,200], 'learning_rate':[0.1,0.3,0.5], 'subsample':[0.3,0.5,1], 'max_depth':[3,4,5]}"
   ]
  },
  {
   "cell_type": "code",
   "execution_count": 461,
   "id": "b3a49073-6432-4e30-918c-809101468fae",
   "metadata": {},
   "outputs": [
    {
     "name": "stdout",
     "output_type": "stream",
     "text": [
      "Fitting 3 folds for each of 108 candidates, totalling 324 fits\n",
      "Grid search time: 7.742735862731934\n",
      "best score: 0.927384877643945\n",
      "best params: {'learning_rate': 0.1, 'max_depth': 4, 'n_estimators': 100, 'subsample': 1}\n"
     ]
    }
   ],
   "source": [
    "xg_best, xg_cv_res = get_gridsearch_res(xgb_clf, X_train, y_train, xg_params)"
   ]
  },
  {
   "cell_type": "code",
   "execution_count": 462,
   "id": "a09ac97a-2ac0-4280-ae0a-fedc7efcf7c1",
   "metadata": {},
   "outputs": [
    {
     "data": {
      "text/html": [
       "<div>\n",
       "<style scoped>\n",
       "    .dataframe tbody tr th:only-of-type {\n",
       "        vertical-align: middle;\n",
       "    }\n",
       "\n",
       "    .dataframe tbody tr th {\n",
       "        vertical-align: top;\n",
       "    }\n",
       "\n",
       "    .dataframe thead th {\n",
       "        text-align: right;\n",
       "    }\n",
       "</style>\n",
       "<table border=\"1\" class=\"dataframe\">\n",
       "  <thead>\n",
       "    <tr style=\"text-align: right;\">\n",
       "      <th></th>\n",
       "      <th>mean_fit_time</th>\n",
       "      <th>std_fit_time</th>\n",
       "      <th>mean_score_time</th>\n",
       "      <th>std_score_time</th>\n",
       "      <th>param_learning_rate</th>\n",
       "      <th>param_max_depth</th>\n",
       "      <th>param_n_estimators</th>\n",
       "      <th>param_subsample</th>\n",
       "      <th>params</th>\n",
       "      <th>split0_test_score</th>\n",
       "      <th>split1_test_score</th>\n",
       "      <th>split2_test_score</th>\n",
       "      <th>mean_test_score</th>\n",
       "      <th>std_test_score</th>\n",
       "      <th>rank_test_score</th>\n",
       "      <th>split0_train_score</th>\n",
       "      <th>split1_train_score</th>\n",
       "      <th>split2_train_score</th>\n",
       "      <th>mean_train_score</th>\n",
       "      <th>std_train_score</th>\n",
       "    </tr>\n",
       "  </thead>\n",
       "  <tbody>\n",
       "    <tr>\n",
       "      <th>17</th>\n",
       "      <td>0.131142</td>\n",
       "      <td>0.003567</td>\n",
       "      <td>0.004448</td>\n",
       "      <td>0.001510</td>\n",
       "      <td>0.1</td>\n",
       "      <td>4</td>\n",
       "      <td>100</td>\n",
       "      <td>1</td>\n",
       "      <td>{'learning_rate': 0.1, 'max_depth': 4, 'n_esti...</td>\n",
       "      <td>0.935233</td>\n",
       "      <td>0.935233</td>\n",
       "      <td>0.911688</td>\n",
       "      <td>0.927385</td>\n",
       "      <td>0.011099</td>\n",
       "      <td>1</td>\n",
       "      <td>0.978558</td>\n",
       "      <td>0.977836</td>\n",
       "      <td>0.979831</td>\n",
       "      <td>0.978741</td>\n",
       "      <td>0.000825</td>\n",
       "    </tr>\n",
       "    <tr>\n",
       "      <th>8</th>\n",
       "      <td>0.154637</td>\n",
       "      <td>0.007298</td>\n",
       "      <td>0.006400</td>\n",
       "      <td>0.002093</td>\n",
       "      <td>0.1</td>\n",
       "      <td>3</td>\n",
       "      <td>150</td>\n",
       "      <td>1</td>\n",
       "      <td>{'learning_rate': 0.1, 'max_depth': 3, 'n_esti...</td>\n",
       "      <td>0.936774</td>\n",
       "      <td>0.933680</td>\n",
       "      <td>0.910506</td>\n",
       "      <td>0.926987</td>\n",
       "      <td>0.011722</td>\n",
       "      <td>2</td>\n",
       "      <td>0.972798</td>\n",
       "      <td>0.972763</td>\n",
       "      <td>0.974692</td>\n",
       "      <td>0.973417</td>\n",
       "      <td>0.000901</td>\n",
       "    </tr>\n",
       "    <tr>\n",
       "      <th>107</th>\n",
       "      <td>0.293680</td>\n",
       "      <td>0.021906</td>\n",
       "      <td>0.007384</td>\n",
       "      <td>0.002507</td>\n",
       "      <td>0.5</td>\n",
       "      <td>5</td>\n",
       "      <td>200</td>\n",
       "      <td>1</td>\n",
       "      <td>{'learning_rate': 0.5, 'max_depth': 5, 'n_esti...</td>\n",
       "      <td>0.936842</td>\n",
       "      <td>0.935611</td>\n",
       "      <td>0.905914</td>\n",
       "      <td>0.926122</td>\n",
       "      <td>0.014298</td>\n",
       "      <td>3</td>\n",
       "      <td>1.000000</td>\n",
       "      <td>1.000000</td>\n",
       "      <td>1.000000</td>\n",
       "      <td>1.000000</td>\n",
       "      <td>0.000000</td>\n",
       "    </tr>\n",
       "    <tr>\n",
       "      <th>5</th>\n",
       "      <td>0.114765</td>\n",
       "      <td>0.009756</td>\n",
       "      <td>0.004435</td>\n",
       "      <td>0.001955</td>\n",
       "      <td>0.1</td>\n",
       "      <td>3</td>\n",
       "      <td>100</td>\n",
       "      <td>1</td>\n",
       "      <td>{'learning_rate': 0.1, 'max_depth': 3, 'n_esti...</td>\n",
       "      <td>0.933333</td>\n",
       "      <td>0.933680</td>\n",
       "      <td>0.910968</td>\n",
       "      <td>0.925994</td>\n",
       "      <td>0.010626</td>\n",
       "      <td>4</td>\n",
       "      <td>0.962629</td>\n",
       "      <td>0.958869</td>\n",
       "      <td>0.966365</td>\n",
       "      <td>0.962621</td>\n",
       "      <td>0.003060</td>\n",
       "    </tr>\n",
       "    <tr>\n",
       "      <th>29</th>\n",
       "      <td>0.181324</td>\n",
       "      <td>0.003335</td>\n",
       "      <td>0.006511</td>\n",
       "      <td>0.001977</td>\n",
       "      <td>0.1</td>\n",
       "      <td>5</td>\n",
       "      <td>100</td>\n",
       "      <td>1</td>\n",
       "      <td>{'learning_rate': 0.1, 'max_depth': 5, 'n_esti...</td>\n",
       "      <td>0.932292</td>\n",
       "      <td>0.932292</td>\n",
       "      <td>0.913158</td>\n",
       "      <td>0.925914</td>\n",
       "      <td>0.009020</td>\n",
       "      <td>5</td>\n",
       "      <td>0.990789</td>\n",
       "      <td>0.987557</td>\n",
       "      <td>0.992758</td>\n",
       "      <td>0.990368</td>\n",
       "      <td>0.002144</td>\n",
       "    </tr>\n",
       "  </tbody>\n",
       "</table>\n",
       "</div>"
      ],
      "text/plain": [
       "     mean_fit_time  std_fit_time  mean_score_time  std_score_time  \\\n",
       "17        0.131142      0.003567         0.004448        0.001510   \n",
       "8         0.154637      0.007298         0.006400        0.002093   \n",
       "107       0.293680      0.021906         0.007384        0.002507   \n",
       "5         0.114765      0.009756         0.004435        0.001955   \n",
       "29        0.181324      0.003335         0.006511        0.001977   \n",
       "\n",
       "    param_learning_rate param_max_depth param_n_estimators param_subsample  \\\n",
       "17                  0.1               4                100               1   \n",
       "8                   0.1               3                150               1   \n",
       "107                 0.5               5                200               1   \n",
       "5                   0.1               3                100               1   \n",
       "29                  0.1               5                100               1   \n",
       "\n",
       "                                                params  split0_test_score  \\\n",
       "17   {'learning_rate': 0.1, 'max_depth': 4, 'n_esti...           0.935233   \n",
       "8    {'learning_rate': 0.1, 'max_depth': 3, 'n_esti...           0.936774   \n",
       "107  {'learning_rate': 0.5, 'max_depth': 5, 'n_esti...           0.936842   \n",
       "5    {'learning_rate': 0.1, 'max_depth': 3, 'n_esti...           0.933333   \n",
       "29   {'learning_rate': 0.1, 'max_depth': 5, 'n_esti...           0.932292   \n",
       "\n",
       "     split1_test_score  split2_test_score  mean_test_score  std_test_score  \\\n",
       "17            0.935233           0.911688         0.927385        0.011099   \n",
       "8             0.933680           0.910506         0.926987        0.011722   \n",
       "107           0.935611           0.905914         0.926122        0.014298   \n",
       "5             0.933680           0.910968         0.925994        0.010626   \n",
       "29            0.932292           0.913158         0.925914        0.009020   \n",
       "\n",
       "     rank_test_score  split0_train_score  split1_train_score  \\\n",
       "17                 1            0.978558            0.977836   \n",
       "8                  2            0.972798            0.972763   \n",
       "107                3            1.000000            1.000000   \n",
       "5                  4            0.962629            0.958869   \n",
       "29                 5            0.990789            0.987557   \n",
       "\n",
       "     split2_train_score  mean_train_score  std_train_score  \n",
       "17             0.979831          0.978741         0.000825  \n",
       "8              0.974692          0.973417         0.000901  \n",
       "107            1.000000          1.000000         0.000000  \n",
       "5              0.966365          0.962621         0.003060  \n",
       "29             0.992758          0.990368         0.002144  "
      ]
     },
     "execution_count": 462,
     "metadata": {},
     "output_type": "execute_result"
    }
   ],
   "source": [
    "xg_cv_res.head()"
   ]
  },
  {
   "cell_type": "code",
   "execution_count": 463,
   "id": "ac8c4562-6ad9-46e8-ad77-6fa01d1aadf6",
   "metadata": {},
   "outputs": [
    {
     "name": "stdout",
     "output_type": "stream",
     "text": [
      "Train score:  0.9727861771058315\n",
      "Test score:  0.9211873080859775\n"
     ]
    }
   ],
   "source": [
    "y_train_pred = xg_best.predict(X_train)\n",
    "y_test_pred = xg_best.predict(X_test)\n",
    "\n",
    "print('Train score: ',f1_score(y_train, y_train_pred))\n",
    "print('Test score: ',f1_score(y_test, y_test_pred))"
   ]
  },
  {
   "cell_type": "markdown",
   "id": "edd25c65-3d0f-4eb3-83ed-b5dbe0d6451c",
   "metadata": {},
   "source": [
    "`XGBoost is slightly overfitted compare to GBDT.`"
   ]
  },
  {
   "cell_type": "markdown",
   "id": "016a85e1-0e23-456f-8b74-8b3761f2a082",
   "metadata": {},
   "source": [
    "### Metrics analysis for Random forst and GBDT."
   ]
  },
  {
   "cell_type": "markdown",
   "id": "a0996022-b123-44b2-8d87-08d5f35946fd",
   "metadata": {},
   "source": [
    "### Random forest"
   ]
  },
  {
   "cell_type": "code",
   "execution_count": 464,
   "id": "0e961ba3-0b1c-490f-96e0-fcfb0b393141",
   "metadata": {},
   "outputs": [],
   "source": [
    "y_pred = rfc_best_est.predict_proba(X_test)[:,1]"
   ]
  },
  {
   "cell_type": "code",
   "execution_count": 465,
   "id": "744dcbf6-1977-46f5-b330-83420d2d9bf3",
   "metadata": {},
   "outputs": [],
   "source": [
    "def get_pr_re_curve(y_test, y_pred):\n",
    "    pr, re, thresh = precision_recall_curve(y_test, y_pred)\n",
    "    threshold_boundary = thresh.shape[0]\n",
    "    plt.plot(thresh, pr[0:threshold_boundary], linestyle='--', label='precisions')\n",
    "    plt.plot(thresh, re[0:threshold_boundary], label='recalls')\n",
    "    start, end = plt.xlim()\n",
    "    plt.xticks(np.round(np.arange(start, end, 0.05), 2))\n",
    "    plt.xlabel('Threshold Value')\n",
    "    plt.ylabel('Precision and Recall Value')\n",
    "    plt.legend()\n",
    "    plt.grid()\n",
    "    plt.show()"
   ]
  },
  {
   "cell_type": "code",
   "execution_count": 466,
   "id": "b05c9aca-4097-42e0-b03b-ad9fd39642a3",
   "metadata": {},
   "outputs": [],
   "source": [
    "def get_roc_curve(y_test, y_proba):\n",
    "    score = roc_auc_score(y_test, y_proba).round(2)\n",
    "    fpr, tpr, thresh = roc_curve(y_test, y_proba)\n",
    "    plt.plot(fpr, tpr, label='ROC AUC (area = %0.2f)' % score)\n",
    "    plt.plot([0, 1], [0, 1],'r--')\n",
    "    plt.xlim([0.0, 1.0])\n",
    "    plt.ylim([0.0, 1.05])\n",
    "    plt.xlabel('False Positive Rate')\n",
    "    plt.ylabel('True Positive Rate')\n",
    "    plt.title('Receiver operating characteristic')\n",
    "    plt.legend(loc=\"lower right\")\n",
    "    plt.show()"
   ]
  },
  {
   "cell_type": "code",
   "execution_count": 467,
   "id": "c842feb5-3f86-4eba-a1f0-b7835c36da7f",
   "metadata": {},
   "outputs": [
    {
     "data": {
      "image/png": "[encoded data removed]",
      "text/plain": [
       "<Figure size 1080x360 with 1 Axes>"
      ]
     },
     "metadata": {
      "needs_background": "light"
     },
     "output_type": "display_data"
    }
   ],
   "source": [
    "get_pr_re_curve(y_test, y_pred)"
   ]
  },
  {
   "cell_type": "markdown",
   "id": "965c411d-0bd9-4806-9cbb-dabf79a1c80a",
   "metadata": {},
   "source": [
    "`By seeing the pr-recall curvem 0.42 threshold looks good where precision and recall curve are intersecting with each other.`"
   ]
  },
  {
   "cell_type": "code",
   "execution_count": 468,
   "id": "948777e3-4716-44e7-b63b-ebe0724bd62f",
   "metadata": {},
   "outputs": [
    {
     "data": {
      "image/png": "[encoded data removed]",
      "text/plain": [
       "<Figure size 1080x360 with 1 Axes>"
      ]
     },
     "metadata": {
      "needs_background": "light"
     },
     "output_type": "display_data"
    }
   ],
   "source": [
    "get_roc_curve(y_test, y_pred)"
   ]
  },
  {
   "cell_type": "code",
   "execution_count": 469,
   "id": "5db11c79-60c1-437d-9421-857851a1dbb9",
   "metadata": {},
   "outputs": [],
   "source": [
    "y_pred_label = np.where(y_pred > 0.42, 1, 0)"
   ]
  },
  {
   "cell_type": "code",
   "execution_count": 470,
   "id": "fd190d3d-d842-4cda-a8cd-fca92e127767",
   "metadata": {},
   "outputs": [],
   "source": [
    "def get_metrics(y_test, y_pred):\n",
    "    pr = precision_score(y_test, y_pred).round(2)\n",
    "    re = recall_score(y_test, y_pred).round(2)\n",
    "    f1 = f1_score(y_test, y_pred).round(2)\n",
    "    print(f'Precision: {pr} \\nRecall: {re} \\nF1 score: {f1}')\n",
    "    "
   ]
  },
  {
   "cell_type": "code",
   "execution_count": 471,
   "id": "65a1becc-d38e-43ff-847c-7dfd4aa9569f",
   "metadata": {},
   "outputs": [
    {
     "name": "stdout",
     "output_type": "stream",
     "text": [
      "Precision: 0.92 \n",
      "Recall: 0.92 \n",
      "F1 score: 0.92\n"
     ]
    }
   ],
   "source": [
    "get_metrics(y_test, y_pred_label)"
   ]
  },
  {
   "cell_type": "code",
   "execution_count": 472,
   "id": "9a7ac8f3-406a-45ce-8fcc-8561e4fedce2",
   "metadata": {},
   "outputs": [
    {
     "data": {
      "image/png": "[encoded data removed]",
      "text/plain": [
       "<Figure size 1080x360 with 2 Axes>"
      ]
     },
     "metadata": {
      "needs_background": "light"
     },
     "output_type": "display_data"
    }
   ],
   "source": [
    "ConfusionMatrixDisplay(confusion_matrix(y_test, y_pred_label)).plot()\n",
    "plt.show()"
   ]
  },
  {
   "cell_type": "code",
   "execution_count": 473,
   "id": "b649ffcb-9bde-491b-a402-9f47223f2be2",
   "metadata": {},
   "outputs": [
    {
     "name": "stdout",
     "output_type": "stream",
     "text": [
      "              precision    recall  f1-score   support\n",
      "\n",
      "         0.0       0.83      0.83      0.83       230\n",
      "         1.0       0.92      0.92      0.92       485\n",
      "\n",
      "    accuracy                           0.89       715\n",
      "   macro avg       0.88      0.87      0.87       715\n",
      "weighted avg       0.89      0.89      0.89       715\n",
      "\n"
     ]
    }
   ],
   "source": [
    "print(classification_report(y_test, y_pred_label))"
   ]
  },
  {
   "cell_type": "markdown",
   "id": "faa80cb2-58da-49e4-9552-38dbbdc900ad",
   "metadata": {},
   "source": [
    "### GBDT"
   ]
  },
  {
   "cell_type": "code",
   "execution_count": 474,
   "id": "9f52a76f-cebb-44e0-bf76-b34ee67edc39",
   "metadata": {},
   "outputs": [],
   "source": [
    "y_pred = gbdt_best.predict_proba(X_test)[:,1]"
   ]
  },
  {
   "cell_type": "code",
   "execution_count": 475,
   "id": "28f1d1c7-8f93-4cc5-b9bf-ef8bc9f09722",
   "metadata": {},
   "outputs": [
    {
     "data": {
      "image/png": "[encoded data removed]",
      "text/plain": [
       "<Figure size 1080x360 with 1 Axes>"
      ]
     },
     "metadata": {
      "needs_background": "light"
     },
     "output_type": "display_data"
    }
   ],
   "source": [
    "get_pr_re_curve(y_test, y_pred)"
   ]
  },
  {
   "cell_type": "markdown",
   "id": "457a97ca-a79d-432e-8443-21fd577807a6",
   "metadata": {},
   "source": [
    "`By seeing the pr-recall curvem 0.46 threshold looks good where precision and recall curve are intersecting with each other.`"
   ]
  },
  {
   "cell_type": "code",
   "execution_count": 476,
   "id": "b8f39ba1-7a5c-456a-ab0b-59e6fd2e03b6",
   "metadata": {},
   "outputs": [
    {
     "data": {
      "image/png": "[encoded data removed]",
      "text/plain": [
       "<Figure size 1080x360 with 1 Axes>"
      ]
     },
     "metadata": {
      "needs_background": "light"
     },
     "output_type": "display_data"
    }
   ],
   "source": [
    "get_roc_curve(y_test, y_pred)"
   ]
  },
  {
   "cell_type": "code",
   "execution_count": 477,
   "id": "c004ddd4-1f44-4ec8-8407-bc7bb97ab77d",
   "metadata": {},
   "outputs": [],
   "source": [
    "y_pred_label = np.where(y_pred > 0.46, 1, 0)"
   ]
  },
  {
   "cell_type": "code",
   "execution_count": 478,
   "id": "a10df148-8ecb-498d-b6ad-63eef5632fee",
   "metadata": {},
   "outputs": [
    {
     "name": "stdout",
     "output_type": "stream",
     "text": [
      "Precision: 0.92 \n",
      "Recall: 0.92 \n",
      "F1 score: 0.92\n"
     ]
    }
   ],
   "source": [
    "get_metrics(y_test, y_pred_label)"
   ]
  },
  {
   "cell_type": "code",
   "execution_count": 479,
   "id": "9172b310-2e38-4bdc-9d63-f1f4281f7baa",
   "metadata": {},
   "outputs": [
    {
     "data": {
      "image/png": "[encoded data removed]",
      "text/plain": [
       "<Figure size 1080x360 with 2 Axes>"
      ]
     },
     "metadata": {
      "needs_background": "light"
     },
     "output_type": "display_data"
    }
   ],
   "source": [
    "ConfusionMatrixDisplay(confusion_matrix(y_test, y_pred_label)).plot()\n",
    "plt.show()"
   ]
  },
  {
   "cell_type": "code",
   "execution_count": 480,
   "id": "0ed78459-cc2e-4853-bcad-9e08f5ce8d12",
   "metadata": {},
   "outputs": [
    {
     "name": "stdout",
     "output_type": "stream",
     "text": [
      "              precision    recall  f1-score   support\n",
      "\n",
      "         0.0       0.83      0.83      0.83       230\n",
      "         1.0       0.92      0.92      0.92       485\n",
      "\n",
      "    accuracy                           0.89       715\n",
      "   macro avg       0.87      0.88      0.88       715\n",
      "weighted avg       0.89      0.89      0.89       715\n",
      "\n"
     ]
    }
   ],
   "source": [
    "print(classification_report(y_test, y_pred_label))"
   ]
  },
  {
   "cell_type": "markdown",
   "id": "4a9ec487-8529-44ae-a56d-68f52e5fb1ce",
   "metadata": {
    "tags": []
   },
   "source": [
    "#### <span style='color:red'>Observations</span>\n",
    "1. AUC for GBDT is higher compare to RF that is 96.\n",
    "2. Precision, recall and f1 score same for both with 92 value.\n",
    "3. All other score in classification report are almost same in both RF and GBDT classifiers but GBDT is slightly good. so we can go with GBDT.\n",
    "4. GBDT AUC score in 96 that is very good as we can easily distinghish between both classes.\n",
    "5. In our case, f1 score is best metric for analysis but if we want to give more weightage to recall, we can change threshold with the help of  PR-Recall curve."
   ]
  },
  {
   "cell_type": "markdown",
   "id": "1e73bb8e-1500-4e81-9142-e294e1859fb8",
   "metadata": {},
   "source": [
    "#### <span style='color:red'>Insights</span>"
   ]
  },
  {
   "cell_type": "markdown",
   "id": "f64c5793-da37-4ebd-a639-523b6fd6e1dd",
   "metadata": {},
   "source": [
    "1. In total business value, we have outliers.\n",
    "2. Both gender are in 58:42 ratio.\n",
    "3. Most of the drivers belong to C20 city.\n",
    "4. Mostly drivers got rating 1 only.\n",
    "5. 68% drivers left the company.\n",
    "6. Random forest, GBDT and XGboost models performances are almost same.\n",
    "7. GBDT has slightly better performed with 94.5% train f1 score and 92% test f1 score.\n",
    "8. Consider both precision and recall metrics, 46% threshold is best by precision-recall curve.\n",
    "9. ROC AUC score is 96%.\n",
    "10. Most important features for GBDT models are: Joining Year, Total Business value and Joining Month."
   ]
  },
  {
   "cell_type": "markdown",
   "id": "974c129d-7149-482f-9a7d-cf288e84a2fc",
   "metadata": {},
   "source": [
    "#### <span style='color:red'>Recommendations</span>"
   ]
  },
  {
   "cell_type": "markdown",
   "id": "024963a6-f313-4ff5-82ed-cfb03b6b797a",
   "metadata": {},
   "source": [
    "1. Model can predict driver attrition chances with high confidence.\n",
    "2. Business should release survey to drivers to understand pain points.\n",
    "3. From the survey results, business should take key things and provide some trainings to drivers so they can perform better in coming months.\n",
    "4. Drivers should do long working hours to increse total business value.\n",
    "5. Cities c26, c20 and c15 have high attrition rate, business should do some campigns there to understand drivers concerns.\n",
    "6. By model prediction, business should target drivers those have high prediction of attrition in near future and provide them 1-1 counselling.\n",
    "7. With more relevant features for attrition, we can re-train model to provide results more confidently."
   ]
  },
  {
   "cell_type": "code",
   "execution_count": null,
   "id": "dc9a6ffb-c435-4008-9112-be4295a69b1c",
   "metadata": {},
   "outputs": [],
   "source": []
  }
 ],
 "metadata": {
  "kernelspec": {
   "display_name": "Python 3 (ipykernel)",
   "language": "python",
   "name": "python3"
  },
  "language_info": {
   "codemirror_mode": {
    "name": "ipython",
    "version": 3
   },
   "file_extension": ".py",
   "mimetype": "text/x-python",
   "name": "python",
   "nbconvert_exporter": "python",
   "pygments_lexer": "ipython3",
   "version": "3.9.12"
  }
 },
 "nbformat": 4,
 "nbformat_minor": 5
}
